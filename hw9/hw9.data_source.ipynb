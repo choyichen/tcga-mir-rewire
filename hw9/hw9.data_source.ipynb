{
 "cells": [
  {
   "cell_type": "markdown",
   "metadata": {},
   "source": [
    "`target_somatic.txt` downloded from SomamiR at http://compbio.uthsc.edu/SomamiR/download/target_somatic.txt (7/20/2015)"
   ]
  },
  {
   "cell_type": "markdown",
   "metadata": {},
   "source": [
    "## Read the table"
   ]
  },
  {
   "cell_type": "markdown",
   "metadata": {},
   "source": [
    "Column 17 (Pubmedid) contains numbers (NMID) and strings ([ICGC](https://icgc.org/), [PCGP](http://explore.pediatriccancergenomeproject.org/))."
   ]
  },
  {
   "cell_type": "code",
   "execution_count": 1,
   "metadata": {
    "collapsed": false
   },
   "outputs": [
    {
     "name": "stderr",
     "output_type": "stream",
     "text": [
      "/cbhomes/cychen/anaconda/lib/python2.7/site-packages/pandas/io/parsers.py:1170: DtypeWarning: Columns (17) have mixed types. Specify dtype option on import or set low_memory=False.\n",
      "  data = self._reader.read(nrows)\n"
     ]
    }
   ],
   "source": [
    "import pandas as pd\n",
    "cols = [\"Mutationid\", \"Refseq\", \"Genesymbol\", \"miRNA\", \"Chromosome\", \"Mutationlocation\", \"Targetsiteclass\", \\\n",
    "        \"Pubmedid\", \"Cancertype\", \"Sample_id\"]\n",
    "df = pd.read_table(\"target_somatic.txt.gz\", compression=\"gzip\", usecols=cols)"
   ]
  },
  {
   "cell_type": "markdown",
   "metadata": {},
   "source": [
    "## Examine the data source"
   ]
  },
  {
   "cell_type": "markdown",
   "metadata": {},
   "source": [
    "\"Breast Cancer\" came from NMID [22492626](http://www.ncbi.nlm.nih.gov/pubmed/22492626) (WGS):\n",
    "\n",
    ">Yost, Shawn E., et al. \"Identification of high-confidence somatic mutations in **whole genome sequence** of formalin-fixed breast cancer specimens.\" Nucleic acids research 40.14 (2012): e107-e107.\n",
    "\n",
    "\"Breast cancer\" came from NMID [21493686](http://www.ncbi.nlm.nih.gov/pubmed/21493686) (WXS):\n",
    "\n",
    ">Galante, Pedro AF, et al. \"Distinct patterns of somatic alterations in a lymphoblastoid and a tumor genome derived from the same individual.\" Nucleic acids research 39.14 (2011): 6056-6068.\n",
    "\n",
    "\"Breast\" came from NMID [22722201](http://www.ncbi.nlm.nih.gov/pubmed/22722201) (WXS):\n",
    "\n",
    ">Stephens, Philip J., et al. \"The landscape of cancer genes and mutational processes in breast cancer.\" Nature 486.7403 (2012): 400-404.\n",
    "\n",
    "\"Acute myeloid leukemia\" came from NMID [22237025](http://www.ncbi.nlm.nih.gov/pubmed/22237025) (WGS):\n",
    "\n",
    ">Ding, Li, et al. \"Clonal evolution in relapsed acute myeloid leukaemia revealed by **whole-genome sequencing**.\" Nature 481.7382 (2012): 506-510.\n",
    "\n",
    "\n",
    "\"Chronic lymphocytic leukaemia\" came from NMID [21642962](http://www.ncbi.nlm.nih.gov/pubmed/21642962) (WGS):\n",
    "\n",
    ">Puente, Xose S., et al. \"Whole-genome sequencing identifies recurrent mutations in chronic lymphocytic leukaemia.\" Nature 475.7354 (2011): 101-105.\n",
    "\n",
    "\"Colorectal adenocarcinoma\" came from NMID [21892161](http://www.ncbi.nlm.nih.gov/pubmed/21892161) (WGS):\n",
    "\n",
    ">Bass, Adam J., et al. \"Genomic sequencing of colorectal adenocarcinomas identifies a recurrent VTI1A-TCF7L2 fusion.\" Nature genetics 43.10 (2011): 964-968.\n",
    "\n",
    "\"Hepatocellular carcinoma\" came from NMID [21499249](http://www.ncbi.nlm.nih.gov/pubmed/21499249) (WGS):\n",
    "\n",
    ">Totoki, Yasushi, et al. \"High-resolution characterization of a hepatocellular carcinoma genome.\" Nature genetics 43.5 (2011): 464-469.\n",
    "\n",
    "\"Leukemia/T-ALL\" came from NMID [22675565](http://www.ncbi.nlm.nih.gov/pubmed/22675565) (WXS):\n",
    "\n",
    ">Kalender Atak, Zeynep, et al. \"High accuracy mutation detection in leukemia on a selected panel of cancer genes.\" PLoS One 7.6 (2012): e38463.\n",
    "\n",
    "\"Lung\" came from NUMID [20505728](http://www.ncbi.nlm.nih.gov/pubmed/20505728)(WGS), [22975805](http://www.ncbi.nlm.nih.gov/pubmed/22975805)(WXS), [23033341](http://www.ncbi.nlm.nih.gov/pubmed/23033341)(WGS):\n",
    "\n",
    ">Lee, William, et al. \"The mutation spectrum revealed by paired genome sequences from a lung cancer patient.\" Nature 465.7297 (2010): 473-477.\n",
    "\n",
    ">Seo, Jeong-Sun, et al. \"The transcriptional landscape and mutational profile of lung adenocarcinoma.\" Genome research (2012).\n",
    "\n",
    ">Liu, Jinfeng, et al. \"Genome and transcriptome sequencing of lung cancers reveal diverse mutational and splicing events.\" Genome research 22.12 (2012): 2315-2327.\n",
    "\n",
    "\"Myeloid leukemia\" NMID [22417201](http://www.ncbi.nlm.nih.gov/pubmed/22417201) (WGS):\n",
    "\n",
    ">Walter, Matthew J., et al. \"Clonal architecture of secondary acute myeloid leukemia.\" New England Journal of Medicine 366.12 (2012): 1090-1098.\n",
    "\n",
    "\"Myeloma\" [22573403](http://www.ncbi.nlm.nih.gov/pubmed/22573403) (WXS):\n",
    "\n",
    ">Walker, Brian A., et al. \"Intraclonal heterogeneity and distinct molecular mechanisms characterize the development of t (4; 14) and t (11; 14) myeloma.\" Blood 120.5 (2012): 1077-1086.\n",
    "\n",
    "\"Small cell lung cancer\" [20016488](http://www.ncbi.nlm.nih.gov/pubmed/20016488) (WGS):\n",
    "\n",
    ">Pleasance, Erin D., et al. \"A small-cell lung cancer genome with complex signatures of tobacco exposure.\" Nature 463.7278 (2010): 184-190."
   ]
  },
  {
   "cell_type": "code",
   "execution_count": 6,
   "metadata": {
    "collapsed": false
   },
   "outputs": [
    {
     "data": {
      "text/plain": [
       "{22492626.0, '22492626'}"
      ]
     },
     "execution_count": 6,
     "metadata": {},
     "output_type": "execute_result"
    }
   ],
   "source": [
    "set(df[df[\"Cancertype\"] == \"Breast Cancer\"][\"Pubmedid\"])"
   ]
  },
  {
   "cell_type": "code",
   "execution_count": 8,
   "metadata": {
    "collapsed": false
   },
   "outputs": [
    {
     "data": {
      "text/plain": [
       "{21493686.0, '21493686'}"
      ]
     },
     "execution_count": 8,
     "metadata": {},
     "output_type": "execute_result"
    }
   ],
   "source": [
    "set(df[df[\"Cancertype\"] == \"Breast cancer\"][\"Pubmedid\"])"
   ]
  },
  {
   "cell_type": "code",
   "execution_count": 9,
   "metadata": {
    "collapsed": false
   },
   "outputs": [
    {
     "data": {
      "text/plain": [
       "{'22722201'}"
      ]
     },
     "execution_count": 9,
     "metadata": {},
     "output_type": "execute_result"
    }
   ],
   "source": [
    "set(df[df[\"Cancertype\"] == \"Breast\"][\"Pubmedid\"])"
   ]
  },
  {
   "cell_type": "code",
   "execution_count": 19,
   "metadata": {
    "collapsed": false
   },
   "outputs": [
    {
     "data": {
      "text/plain": [
       "{'ICGC'}"
      ]
     },
     "execution_count": 19,
     "metadata": {},
     "output_type": "execute_result"
    }
   ],
   "source": [
    "set(df[df[\"Cancertype\"] == \"BreastCarcinoma(WTSI,UK)\"][\"Pubmedid\"])"
   ]
  },
  {
   "cell_type": "code",
   "execution_count": 10,
   "metadata": {
    "collapsed": false
   },
   "outputs": [
    {
     "data": {
      "text/plain": [
       "{22237025.0, '22237025'}"
      ]
     },
     "execution_count": 10,
     "metadata": {},
     "output_type": "execute_result"
    }
   ],
   "source": [
    "set(df[df[\"Cancertype\"] == \"Acute myeloid leukemia\"][\"Pubmedid\"])"
   ]
  },
  {
   "cell_type": "code",
   "execution_count": 11,
   "metadata": {
    "collapsed": false
   },
   "outputs": [
    {
     "data": {
      "text/plain": [
       "{21642962.0, '21642962'}"
      ]
     },
     "execution_count": 11,
     "metadata": {},
     "output_type": "execute_result"
    }
   ],
   "source": [
    "set(df[df[\"Cancertype\"] == \"Chronic lymphocytic leukaemia\"][\"Pubmedid\"])"
   ]
  },
  {
   "cell_type": "code",
   "execution_count": 12,
   "metadata": {
    "collapsed": false
   },
   "outputs": [
    {
     "data": {
      "text/plain": [
       "{21892161.0, '21892161'}"
      ]
     },
     "execution_count": 12,
     "metadata": {},
     "output_type": "execute_result"
    }
   ],
   "source": [
    "set(df[df[\"Cancertype\"] == \"Colorectal adenocarcinoma\"][\"Pubmedid\"])"
   ]
  },
  {
   "cell_type": "code",
   "execution_count": 20,
   "metadata": {
    "collapsed": false
   },
   "outputs": [
    {
     "data": {
      "text/plain": [
       "{'ICGC'}"
      ]
     },
     "execution_count": 20,
     "metadata": {},
     "output_type": "execute_result"
    }
   ],
   "source": [
    "set(df[df[\"Cancertype\"] == \"GastricCancer(CCGC,CN)\"][\"Pubmedid\"])"
   ]
  },
  {
   "cell_type": "code",
   "execution_count": 13,
   "metadata": {
    "collapsed": false
   },
   "outputs": [
    {
     "data": {
      "text/plain": [
       "{'21499249'}"
      ]
     },
     "execution_count": 13,
     "metadata": {},
     "output_type": "execute_result"
    }
   ],
   "source": [
    "set(df[df[\"Cancertype\"] == \"Hepatocellular carcinoma\"][\"Pubmedid\"])"
   ]
  },
  {
   "cell_type": "code",
   "execution_count": 21,
   "metadata": {
    "collapsed": false
   },
   "outputs": [
    {
     "data": {
      "text/plain": [
       "{'PCGP'}"
      ]
     },
     "execution_count": 21,
     "metadata": {},
     "output_type": "execute_result"
    }
   ],
   "source": [
    "set(df[df[\"Cancertype\"] == \"Hypodiploid_ALL\"][\"Pubmedid\"])"
   ]
  },
  {
   "cell_type": "code",
   "execution_count": 15,
   "metadata": {
    "collapsed": false
   },
   "outputs": [
    {
     "data": {
      "text/plain": [
       "{'22675565'}"
      ]
     },
     "execution_count": 15,
     "metadata": {},
     "output_type": "execute_result"
    }
   ],
   "source": [
    "set(df[df[\"Cancertype\"] == \"Leukemia/T-ALL\"][\"Pubmedid\"])"
   ]
  },
  {
   "cell_type": "code",
   "execution_count": 18,
   "metadata": {
    "collapsed": false
   },
   "outputs": [
    {
     "data": {
      "text/plain": [
       "{20505728.0, '22975805', '23033341'}"
      ]
     },
     "execution_count": 18,
     "metadata": {},
     "output_type": "execute_result"
    }
   ],
   "source": [
    "set(df[df[\"Cancertype\"] == \"Lung\"][\"Pubmedid\"])"
   ]
  },
  {
   "cell_type": "code",
   "execution_count": 22,
   "metadata": {
    "collapsed": false
   },
   "outputs": [
    {
     "data": {
      "text/plain": [
       "{'ICGC'}"
      ]
     },
     "execution_count": 22,
     "metadata": {},
     "output_type": "execute_result"
    }
   ],
   "source": [
    "set(df[df[\"Cancertype\"] == \"MalignantMelanoma(WTSI,UK)\"][\"Pubmedid\"])"
   ]
  },
  {
   "cell_type": "code",
   "execution_count": 23,
   "metadata": {
    "collapsed": false
   },
   "outputs": [
    {
     "data": {
      "text/plain": [
       "{'22722829', '22832583', 'PCGP'}"
      ]
     },
     "execution_count": 23,
     "metadata": {},
     "output_type": "execute_result"
    }
   ],
   "source": [
    "set(df[df[\"Cancertype\"] == \"Medulloblastoma\"][\"Pubmedid\"])"
   ]
  },
  {
   "cell_type": "code",
   "execution_count": 24,
   "metadata": {
    "collapsed": false
   },
   "outputs": [
    {
     "data": {
      "text/plain": [
       "{20016485.0, '20016485', '21499247', '22197931', '22622578', '22817889'}"
      ]
     },
     "execution_count": 24,
     "metadata": {},
     "output_type": "execute_result"
    }
   ],
   "source": [
    "set(df[df[\"Cancertype\"] == \"Melanoma\"][\"Pubmedid\"])"
   ]
  },
  {
   "cell_type": "code",
   "execution_count": 25,
   "metadata": {
    "collapsed": false
   },
   "outputs": [
    {
     "data": {
      "text/plain": [
       "{22417201.0, '22417201'}"
      ]
     },
     "execution_count": 25,
     "metadata": {},
     "output_type": "execute_result"
    }
   ],
   "source": [
    "set(df[df[\"Cancertype\"] == \"Myeloid leukemia\"][\"Pubmedid\"])"
   ]
  },
  {
   "cell_type": "code",
   "execution_count": 26,
   "metadata": {
    "collapsed": false
   },
   "outputs": [
    {
     "data": {
      "text/plain": [
       "{'22573403'}"
      ]
     },
     "execution_count": 26,
     "metadata": {},
     "output_type": "execute_result"
    }
   ],
   "source": [
    "set(df[df[\"Cancertype\"] == \"Myeloma\"][\"Pubmedid\"])"
   ]
  },
  {
   "cell_type": "code",
   "execution_count": 27,
   "metadata": {
    "collapsed": false
   },
   "outputs": [
    {
     "data": {
      "text/plain": [
       "{'18772397', '21750719', '22156295', '23103869'}"
      ]
     },
     "execution_count": 27,
     "metadata": {},
     "output_type": "execute_result"
    }
   ],
   "source": [
    "set(df[df[\"Cancertype\"] == \"Pancreatic\"][\"Pubmedid\"])"
   ]
  },
  {
   "cell_type": "code",
   "execution_count": 28,
   "metadata": {
    "collapsed": false
   },
   "outputs": [
    {
     "data": {
      "text/plain": [
       "{'ICGC'}"
      ]
     },
     "execution_count": 28,
     "metadata": {},
     "output_type": "execute_result"
    }
   ],
   "source": [
    "set(df[df[\"Cancertype\"] == \"PediatricBrainTumors(DKFZ,DE)\"][\"Pubmedid\"])"
   ]
  },
  {
   "cell_type": "code",
   "execution_count": 29,
   "metadata": {
    "collapsed": false
   },
   "outputs": [
    {
     "data": {
      "text/plain": [
       "{21307934.0, '22722839', '23265383'}"
      ]
     },
     "execution_count": 29,
     "metadata": {},
     "output_type": "execute_result"
    }
   ],
   "source": [
    "set(df[df[\"Cancertype\"] == \"Prostate\"][\"Pubmedid\"])"
   ]
  },
  {
   "cell_type": "code",
   "execution_count": 30,
   "metadata": {
    "collapsed": false
   },
   "outputs": [
    {
     "data": {
      "text/plain": [
       "{'ICGC'}"
      ]
     },
     "execution_count": 30,
     "metadata": {},
     "output_type": "execute_result"
    }
   ],
   "source": [
    "set(df[df[\"Cancertype\"] == \"ProstateCancer(OICR,CA)\"][\"Pubmedid\"])"
   ]
  },
  {
   "cell_type": "code",
   "execution_count": 31,
   "metadata": {
    "collapsed": false
   },
   "outputs": [
    {
     "data": {
      "text/plain": [
       "{20016488.0}"
      ]
     },
     "execution_count": 31,
     "metadata": {},
     "output_type": "execute_result"
    }
   ],
   "source": [
    "set(df[df[\"Cancertype\"] == \"Small cell lung cancer\"][\"Pubmedid\"])"
   ]
  },
  {
   "cell_type": "code",
   "execution_count": 32,
   "metadata": {
    "collapsed": false
   },
   "outputs": [
    {
     "data": {
      "text/plain": [
       "{'PCGP'}"
      ]
     },
     "execution_count": 32,
     "metadata": {},
     "output_type": "execute_result"
    }
   ],
   "source": [
    "set(df[df[\"Cancertype\"] == \"T-cell ALL\"][\"Pubmedid\"])"
   ]
  },
  {
   "cell_type": "code",
   "execution_count": 33,
   "metadata": {
    "collapsed": false
   },
   "outputs": [
    {
     "data": {
      "text/plain": [
       "{'22461374'}"
      ]
     },
     "execution_count": 33,
     "metadata": {},
     "output_type": "execute_result"
    }
   ],
   "source": [
    "set(df[df[\"Cancertype\"] == \"ccRCC\"][\"Pubmedid\"])"
   ]
  },
  {
   "cell_type": "code",
   "execution_count": 2,
   "metadata": {
    "collapsed": false
   },
   "outputs": [
    {
     "data": {
      "text/plain": [
       "{'22810696'}"
      ]
     },
     "execution_count": 2,
     "metadata": {},
     "output_type": "execute_result"
    }
   ],
   "source": [
    "set(df[df[\"Cancertype\"] == \"Colorectal\"][\"Pubmedid\"])"
   ]
  }
 ],
 "metadata": {
  "kernelspec": {
   "display_name": "Python 2",
   "language": "python",
   "name": "python2"
  },
  "language_info": {
   "codemirror_mode": {
    "name": "ipython",
    "version": 2
   },
   "file_extension": ".py",
   "mimetype": "text/x-python",
   "name": "python",
   "nbconvert_exporter": "python",
   "pygments_lexer": "ipython2",
   "version": "2.7.10"
  }
 },
 "nbformat": 4,
 "nbformat_minor": 0
}
