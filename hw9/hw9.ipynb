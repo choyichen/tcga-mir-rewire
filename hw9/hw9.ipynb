{
 "cells": [
  {
   "cell_type": "markdown",
   "metadata": {},
   "source": [
    "Go to <http://compbio.uthsc.edu/SomamiR/download> and download the file `target_somatic.txt`.\n",
    "\n",
    "Show me the following information:\n",
    "\n",
    "1. How many records in each cancer types? And how many of the records are \"disruption\" or \"creation\"?\n",
    "\n",
    "2. Rank the top 10 genes by the number of cancer types they were found to have at least one disrupted miR binding sites.\n",
    "\n",
    "3. Same as 2, but this time we rank the miRs.\n",
    "\n",
    "\n",
    "Hint: Use pivot-table-related functions in pandas."
   ]
  }
 ],
 "metadata": {
  "kernelspec": {
   "display_name": "Python 2",
   "language": "python",
   "name": "python2"
  },
  "language_info": {
   "codemirror_mode": {
    "name": "ipython",
    "version": 2
   },
   "file_extension": ".py",
   "mimetype": "text/x-python",
   "name": "python",
   "nbconvert_exporter": "python",
   "pygments_lexer": "ipython2",
   "version": "2.7.10"
  }
 },
 "nbformat": 4,
 "nbformat_minor": 0
}
