{
 "cells": [
  {
   "cell_type": "markdown",
   "metadata": {},
   "source": [
    "# Console"
   ]
  },
  {
   "cell_type": "markdown",
   "metadata": {},
   "source": [
    "Provide an interface for file system operation."
   ]
  },
  {
   "cell_type": "code",
   "execution_count": 12,
   "metadata": {
    "collapsed": false
   },
   "outputs": [
    {
     "name": "stdout",
     "output_type": "stream",
     "text": [
      "total 21M\r\n",
      "drwxr-xr-x 3 4.0K Apr 22 22:02 \u001b[0m\u001b[01;34mAEA\u001b[0m/\r\n",
      "drwxr-xr-x 6 4.0K Jun 17 18:21 \u001b[01;34mCOPD_LIONESS\u001b[0m/\r\n",
      "drwxr-xr-x 3 4.0K Mar 25 16:47 \u001b[01;34mECLIPSE_LIONESS\u001b[0m/\r\n",
      "drwxr-xr-x 8 4.0K Jul  3 00:36 \u001b[01;34mmisc\u001b[0m/\r\n",
      "drwxr-xr-x 2 4.0K Jul  6 17:04 \u001b[01;34mTCGA_mutation_gene\u001b[0m/\r\n",
      "drwxr-xr-x 2 4.0K Jul  6 17:04 \u001b[01;34mTCGA_mutation_miR\u001b[0m/\r\n",
      "-rw-r--r-- 1  21M Jul  6 17:08 ipynb_server.log\r\n",
      "-rw-r--r-- 1 155K Jun  8 12:07 template_exp.ipynb\r\n",
      "-rw-r--r-- 1 6.6K Jun 17 16:35 template_project.ipynb\r\n",
      "-rw-r--r-- 1 1.9K Jul  6 17:08 Untitled.ipynb\r\n",
      "\u001b[m"
     ]
    }
   ],
   "source": [
    "%ls -lhgG --group-directories-first"
   ]
  },
  {
   "cell_type": "markdown",
   "metadata": {},
   "source": [
    "Create a project folder"
   ]
  },
  {
   "cell_type": "code",
   "execution_count": 16,
   "metadata": {
    "collapsed": false
   },
   "outputs": [],
   "source": [
    "project_name = \"test\"\n",
    "%mkdir $project_name\n",
    "%cp template_project.ipynb $project_name"
   ]
  },
  {
   "cell_type": "code",
   "execution_count": 3,
   "metadata": {
    "collapsed": false
   },
   "outputs": [
    {
     "data": {
      "text/plain": [
       "[<matplotlib.lines.Line2D at 0x7fac2d3e6490>]"
      ]
     },
     "execution_count": 3,
     "metadata": {},
     "output_type": "execute_result"
    },
    {
     "data": {
      "image/png": "[encoded data removed]",
      "text/plain": [
       "<matplotlib.figure.Figure at 0x7fac2d43dfd0>"
      ]
     },
     "metadata": {},
     "output_type": "display_data"
    }
   ],
   "source": [
    "%matplotlib inline\n",
    "plot(range(100))\n",
    "sns.violinplot()"
   ]
  }
 ],
 "metadata": {
  "kernelspec": {
   "display_name": "Python 2",
   "language": "python",
   "name": "python2"
  },
  "language_info": {
   "codemirror_mode": {
    "name": "ipython",
    "version": 2
   },
   "file_extension": ".py",
   "mimetype": "text/x-python",
   "name": "python",
   "nbconvert_exporter": "python",
   "pygments_lexer": "ipython2",
   "version": "2.7.10"
  }
 },
 "nbformat": 4,
 "nbformat_minor": 0
}
