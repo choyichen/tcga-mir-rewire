{
 "cells": [
  {
   "cell_type": "markdown",
   "metadata": {},
   "source": [
    "# MAF file and miRNA hit table"
   ]
  },
  {
   "cell_type": "markdown",
   "metadata": {},
   "source": [
    "Read the maf file in the same folder. Give me a table listing all hit and non-hit miRNAs and the number of mutations on them. For example,\n",
    "\n",
    "|miR|#hits|\n",
    "|---|---|\n",
    "|miR1|2|\n",
    "|miR2|0|\n",
    "|miR3|5|"
   ]
  },
  {
   "cell_type": "code",
   "execution_count": 2,
   "metadata": {
    "collapsed": false
   },
   "outputs": [],
   "source": [
    "import pandas as pd\n",
    "from pylab import *\n",
    "\n",
    "FILE = pd.read_csv(\"C:/Users/jtso/My Documents/hsa_1.gff3\", skiprows=12, delimiter = \"\\t\")  # Genome coordinates file downloaded from miRBase v20 (GRCh37)\n",
    "MFILE = FILE[\"miR Name\"]\n",
    "OFILE = FILE[[\"Type\", \"Start\", \"End\"]]\n",
    "SFILE = FILE[\"Chromosome\"]\n",
    "koo = lambda x: pd.Series([i for i in(x.split('r'))])\n",
    "r = SFILE.apply(koo)\n",
    "r.rename(columns={1:\"Chromosome\"}, inplace=True)\n",
    "r = r[\"Chromosome\"]\n",
    "foo = lambda x: pd.Series([i for i in(x.split(';'))])\n",
    "s = MFILE.apply(foo)\n",
    "s = s[2]\n",
    "moo = lambda x: pd.Series([i for i in(x.split('='))])\n",
    "s = s.apply(moo)\n",
    "s = s[1]\n",
    "FFILE = pd.concat([r, OFILE, s], axis=1)\n",
    "FFILE.rename(columns={1:'miR Name'}, inplace=True)"
   ]
  },
  {
   "cell_type": "code",
   "execution_count": 3,
   "metadata": {
    "collapsed": false
   },
   "outputs": [],
   "source": [
    "def miR2muthit(Chromosome, start, end):\n",
    "    count = 0\n",
    "    for i in range(len(FILE2)): \n",
    "        if not str(FILE2[\"Chrom\"][i]) == str(Chromosome):\n",
    "            continue\n",
    "        c = []\n",
    "        for x in range(int(start),int(end) + 1):\n",
    "            if x in range(int(FILE2[\"Start_Position\"][i]),int(FILE2[\"End_Position\"][i]) + 1):\n",
    "                count += 1\n",
    "                c.append(x)\n",
    "            if x in c:\n",
    "                break\n",
    "        if c == []:\n",
    "            continue\n",
    "    print count"
   ]
  },
  {
   "cell_type": "code",
   "execution_count": 4,
   "metadata": {
    "collapsed": false,
    "scrolled": true
   },
   "outputs": [
    {
     "ename": "KeyboardInterrupt",
     "evalue": "",
     "output_type": "error",
     "traceback": [
      "\u001b[1;31m---------------------------------------------------------------------------\u001b[0m",
      "\u001b[1;31mKeyboardInterrupt\u001b[0m                         Traceback (most recent call last)",
      "\u001b[1;32m<ipython-input-4-832d21eb6720>\u001b[0m in \u001b[0;36m<module>\u001b[1;34m()\u001b[0m\n\u001b[0;32m     42\u001b[0m \u001b[1;33m\u001b[0m\u001b[0m\n\u001b[0;32m     43\u001b[0m \u001b[1;32mfor\u001b[0m \u001b[0ma\u001b[0m \u001b[1;32min\u001b[0m \u001b[0mrange\u001b[0m\u001b[1;33m(\u001b[0m\u001b[0mlen\u001b[0m\u001b[1;33m(\u001b[0m\u001b[0mFILE2\u001b[0m\u001b[1;33m)\u001b[0m\u001b[1;33m)\u001b[0m\u001b[1;33m:\u001b[0m\u001b[1;33m\u001b[0m\u001b[0m\n\u001b[1;32m---> 44\u001b[1;33m     \u001b[0mpos2miR\u001b[0m\u001b[1;33m(\u001b[0m\u001b[0mFILE2\u001b[0m\u001b[1;33m[\u001b[0m\u001b[1;34m\"Chrom\"\u001b[0m\u001b[1;33m]\u001b[0m\u001b[1;33m[\u001b[0m\u001b[0ma\u001b[0m\u001b[1;33m]\u001b[0m\u001b[1;33m,\u001b[0m \u001b[0mFILE2\u001b[0m\u001b[1;33m[\u001b[0m\u001b[1;34m\"Start_Position\"\u001b[0m\u001b[1;33m]\u001b[0m\u001b[1;33m[\u001b[0m\u001b[0ma\u001b[0m\u001b[1;33m]\u001b[0m\u001b[1;33m,\u001b[0m \u001b[0mFILE2\u001b[0m\u001b[1;33m[\u001b[0m\u001b[1;34m\"End_Position\"\u001b[0m\u001b[1;33m]\u001b[0m\u001b[1;33m[\u001b[0m\u001b[0ma\u001b[0m\u001b[1;33m]\u001b[0m\u001b[1;33m)\u001b[0m\u001b[1;33m\u001b[0m\u001b[0m\n\u001b[0m\u001b[0;32m     45\u001b[0m \u001b[1;33m\u001b[0m\u001b[0m\n\u001b[0;32m     46\u001b[0m \u001b[1;32mfor\u001b[0m \u001b[0mmiR\u001b[0m\u001b[1;33m,\u001b[0m \u001b[0mcount\u001b[0m \u001b[1;32min\u001b[0m \u001b[0md\u001b[0m\u001b[1;33m.\u001b[0m\u001b[0mitems\u001b[0m\u001b[1;33m(\u001b[0m\u001b[1;33m)\u001b[0m\u001b[1;33m:\u001b[0m\u001b[1;33m\u001b[0m\u001b[0m\n",
      "\u001b[1;32m<ipython-input-4-832d21eb6720>\u001b[0m in \u001b[0;36mpos2miR\u001b[1;34m(Chromosome, start, end)\u001b[0m\n\u001b[0;32m     29\u001b[0m     \u001b[1;32mglobal\u001b[0m \u001b[0md\u001b[0m\u001b[1;33m\u001b[0m\u001b[0m\n\u001b[0;32m     30\u001b[0m     \u001b[1;32mfor\u001b[0m \u001b[0mi\u001b[0m \u001b[1;32min\u001b[0m \u001b[0mrange\u001b[0m\u001b[1;33m(\u001b[0m\u001b[0mlen\u001b[0m\u001b[1;33m(\u001b[0m\u001b[0mFFILE\u001b[0m\u001b[1;33m)\u001b[0m\u001b[1;33m)\u001b[0m\u001b[1;33m:\u001b[0m\u001b[1;33m\u001b[0m\u001b[0m\n\u001b[1;32m---> 31\u001b[1;33m         \u001b[1;32mif\u001b[0m \u001b[1;32mnot\u001b[0m \u001b[0mstr\u001b[0m\u001b[1;33m(\u001b[0m\u001b[0mFFILE\u001b[0m\u001b[1;33m[\u001b[0m\u001b[1;34m\"Chromosome\"\u001b[0m\u001b[1;33m]\u001b[0m\u001b[1;33m[\u001b[0m\u001b[0mi\u001b[0m\u001b[1;33m]\u001b[0m\u001b[1;33m)\u001b[0m \u001b[1;33m==\u001b[0m \u001b[0mstr\u001b[0m\u001b[1;33m(\u001b[0m\u001b[0mChromosome\u001b[0m\u001b[1;33m)\u001b[0m\u001b[1;33m:\u001b[0m\u001b[1;33m\u001b[0m\u001b[0m\n\u001b[0m\u001b[0;32m     32\u001b[0m             \u001b[1;32mcontinue\u001b[0m\u001b[1;33m\u001b[0m\u001b[0m\n\u001b[0;32m     33\u001b[0m         \u001b[0mc\u001b[0m \u001b[1;33m=\u001b[0m \u001b[1;33m[\u001b[0m\u001b[1;33m]\u001b[0m\u001b[1;33m\u001b[0m\u001b[0m\n",
      "\u001b[1;32mC:\\Users\\jtso\\AppData\\Local\\Continuum\\Anaconda\\lib\\site-packages\\pandas\\core\\series.pyc\u001b[0m in \u001b[0;36m__getitem__\u001b[1;34m(self, key)\u001b[0m\n\u001b[0;32m    519\u001b[0m     \u001b[1;32mdef\u001b[0m \u001b[0m__getitem__\u001b[0m\u001b[1;33m(\u001b[0m\u001b[0mself\u001b[0m\u001b[1;33m,\u001b[0m \u001b[0mkey\u001b[0m\u001b[1;33m)\u001b[0m\u001b[1;33m:\u001b[0m\u001b[1;33m\u001b[0m\u001b[0m\n\u001b[0;32m    520\u001b[0m         \u001b[1;32mtry\u001b[0m\u001b[1;33m:\u001b[0m\u001b[1;33m\u001b[0m\u001b[0m\n\u001b[1;32m--> 521\u001b[1;33m             \u001b[0mresult\u001b[0m \u001b[1;33m=\u001b[0m \u001b[0mself\u001b[0m\u001b[1;33m.\u001b[0m\u001b[0mindex\u001b[0m\u001b[1;33m.\u001b[0m\u001b[0mget_value\u001b[0m\u001b[1;33m(\u001b[0m\u001b[0mself\u001b[0m\u001b[1;33m,\u001b[0m \u001b[0mkey\u001b[0m\u001b[1;33m)\u001b[0m\u001b[1;33m\u001b[0m\u001b[0m\n\u001b[0m\u001b[0;32m    522\u001b[0m \u001b[1;33m\u001b[0m\u001b[0m\n\u001b[0;32m    523\u001b[0m             \u001b[1;32mif\u001b[0m \u001b[1;32mnot\u001b[0m \u001b[0mnp\u001b[0m\u001b[1;33m.\u001b[0m\u001b[0misscalar\u001b[0m\u001b[1;33m(\u001b[0m\u001b[0mresult\u001b[0m\u001b[1;33m)\u001b[0m\u001b[1;33m:\u001b[0m\u001b[1;33m\u001b[0m\u001b[0m\n",
      "\u001b[1;32mC:\\Users\\jtso\\AppData\\Local\\Continuum\\Anaconda\\lib\\site-packages\\pandas\\core\\index.pyc\u001b[0m in \u001b[0;36mget_value\u001b[1;34m(self, series, key)\u001b[0m\n\u001b[0;32m   1592\u001b[0m             \u001b[1;32mraise\u001b[0m \u001b[0mKeyError\u001b[0m\u001b[1;33m\u001b[0m\u001b[0m\n\u001b[0;32m   1593\u001b[0m \u001b[1;33m\u001b[0m\u001b[0m\n\u001b[1;32m-> 1594\u001b[1;33m         \u001b[1;32mtry\u001b[0m\u001b[1;33m:\u001b[0m\u001b[1;33m\u001b[0m\u001b[0m\n\u001b[0m\u001b[0;32m   1595\u001b[0m             \u001b[1;32mreturn\u001b[0m \u001b[0mself\u001b[0m\u001b[1;33m.\u001b[0m\u001b[0m_engine\u001b[0m\u001b[1;33m.\u001b[0m\u001b[0mget_value\u001b[0m\u001b[1;33m(\u001b[0m\u001b[0ms\u001b[0m\u001b[1;33m,\u001b[0m \u001b[0mk\u001b[0m\u001b[1;33m)\u001b[0m\u001b[1;33m\u001b[0m\u001b[0m\n\u001b[0;32m   1596\u001b[0m         \u001b[1;32mexcept\u001b[0m \u001b[0mKeyError\u001b[0m \u001b[1;32mas\u001b[0m \u001b[0me1\u001b[0m\u001b[1;33m:\u001b[0m\u001b[1;33m\u001b[0m\u001b[0m\n",
      "\u001b[1;31mKeyboardInterrupt\u001b[0m: "
     ]
    }
   ],
   "source": [
    "import pandas as pd\n",
    "from pylab import *\n",
    "\n",
    "FILE = pd.read_csv(\"C:/Users/jtso/My Documents/hsa_1.gff3\", skiprows=12, delimiter = \"\\t\")  # Genome coordinates file downloaded from miRBase v20 (GRCh37)\n",
    "MFILE = FILE[\"miR Name\"]\n",
    "OFILE = FILE[[\"Type\", \"Start\", \"End\"]]\n",
    "SFILE = FILE[\"Chromosome\"]\n",
    "koo = lambda x: pd.Series([i for i in(x.split('r'))])\n",
    "r = SFILE.apply(koo)\n",
    "r.rename(columns={1:\"Chromosome\"}, inplace=True)\n",
    "r = r[\"Chromosome\"]\n",
    "foo = lambda x: pd.Series([i for i in(x.split(';'))])\n",
    "s = MFILE.apply(foo)\n",
    "s = s[2]\n",
    "moo = lambda x: pd.Series([i for i in(x.split('='))])\n",
    "s = s.apply(moo)\n",
    "s = s[1]\n",
    "FFILE = pd.concat([r, OFILE, s], axis=1)\n",
    "FFILE.rename(columns={1:'miR Name'}, inplace=True)\n",
    "\n",
    "FILE2 = pd.read_csv(\"hgsc.bcm.edu__Mixed_curated_DNA_sequencing_level2.maf\", delimiter = \"\\t\")\n",
    "FILE2 = FILE2[[\"Chrom\", \"Start_Position\", \"End_Position\"]]\n",
    "\n",
    "f = pd.DataFrame()\n",
    "g = pd.DataFrame()\n",
    "d = {}\n",
    "\n",
    "def pos2miR(Chromosome, start, end):\n",
    "    global d\n",
    "    for i in range(len(FFILE)):\n",
    "        if not str(FFILE[\"Chromosome\"][i]) == str(Chromosome):\n",
    "            continue\n",
    "        c = []\n",
    "        for x in range(int(start),int(end) + 1):\n",
    "            if x in range(int(FFILE[\"Start\"][i]),int(FFILE[\"End\"][i])):\n",
    "                d[FFILE[\"miR Name\"][i]] = d.get(FFILE[\"miR Name\"][i],0) + 1\n",
    "                c.append(x)\n",
    "            if x in c:\n",
    "                break\n",
    "        if c == []:\n",
    "            continue\n",
    "\n",
    "for a in range(len(FILE2)):\n",
    "    pos2miR(FILE2[\"Chrom\"][a], FILE2[\"Start_Position\"][a], FILE2[\"End_Position\"][a])\n",
    "    \n",
    "for miR, count in d.items():\n",
    "    f = f.append([miR], ignore_index=True)\n",
    "    g = g.append([count], ignore_index=True)\n",
    "f.rename(columns={0:'miR Name'}, inplace=True)\n",
    "g.rename(columns={0:'hits'}, inplace=True)\n",
    "pd.concat([f,g], axis=1)\n",
    "\n",
    "# FILE = \"hgsc.bcm.edu__Mixed_curated_DNA_sequencing_level2.maf\""
   ]
  },
  {
   "cell_type": "code",
   "execution_count": 5,
   "metadata": {
    "collapsed": true
   },
   "outputs": [],
   "source": [
    "FILE2 = pd.read_csv(\"hgsc.bcm.edu__Mixed_curated_DNA_sequencing_level2.maf\", delimiter = \"\\t\")\n",
    "FILE2 = FILE2[[\"Chrom\", \"Start_Position\", \"End_Position\"]]"
   ]
  },
  {
   "cell_type": "code",
   "execution_count": 6,
   "metadata": {
    "collapsed": false,
    "scrolled": true
   },
   "outputs": [
    {
     "data": {
      "text/html": [
       "<div>\n",
       "<table border=\"1\" class=\"dataframe\">\n",
       "  <thead>\n",
       "    <tr style=\"text-align: right;\">\n",
       "      <th></th>\n",
       "      <th>Chromosome</th>\n",
       "      <th>Start</th>\n",
       "      <th>End</th>\n",
       "      <th>miR Name</th>\n",
       "    </tr>\n",
       "  </thead>\n",
       "  <tbody>\n",
       "    <tr>\n",
       "      <th>0</th>\n",
       "      <td>chr1</td>\n",
       "      <td>17369</td>\n",
       "      <td>17436</td>\n",
       "      <td>ID=MI0022705;Alias=MI0022705;Name=hsa-mir-6859-1</td>\n",
       "    </tr>\n",
       "    <tr>\n",
       "      <th>1</th>\n",
       "      <td>chr1</td>\n",
       "      <td>17409</td>\n",
       "      <td>17431</td>\n",
       "      <td>ID=MIMAT0027618;Alias=MIMAT0027618;Name=hsa-mi...</td>\n",
       "    </tr>\n",
       "    <tr>\n",
       "      <th>2</th>\n",
       "      <td>chr1</td>\n",
       "      <td>17369</td>\n",
       "      <td>17391</td>\n",
       "      <td>ID=MIMAT0027619;Alias=MIMAT0027619;Name=hsa-mi...</td>\n",
       "    </tr>\n",
       "    <tr>\n",
       "      <th>3</th>\n",
       "      <td>chr1</td>\n",
       "      <td>30366</td>\n",
       "      <td>30503</td>\n",
       "      <td>ID=MI0006363;Alias=MI0006363;Name=hsa-mir-1302-2</td>\n",
       "    </tr>\n",
       "    <tr>\n",
       "      <th>4</th>\n",
       "      <td>chr1</td>\n",
       "      <td>30438</td>\n",
       "      <td>30458</td>\n",
       "      <td>ID=MIMAT0005890;Alias=MIMAT0005890;Name=hsa-mi...</td>\n",
       "    </tr>\n",
       "  </tbody>\n",
       "</table>\n",
       "</div>"
      ],
      "text/plain": [
       "  Chromosome  Start    End                                           miR Name\n",
       "0       chr1  17369  17436   ID=MI0022705;Alias=MI0022705;Name=hsa-mir-6859-1\n",
       "1       chr1  17409  17431  ID=MIMAT0027618;Alias=MIMAT0027618;Name=hsa-mi...\n",
       "2       chr1  17369  17391  ID=MIMAT0027619;Alias=MIMAT0027619;Name=hsa-mi...\n",
       "3       chr1  30366  30503   ID=MI0006363;Alias=MI0006363;Name=hsa-mir-1302-2\n",
       "4       chr1  30438  30458  ID=MIMAT0005890;Alias=MIMAT0005890;Name=hsa-mi..."
      ]
     },
     "execution_count": 6,
     "metadata": {},
     "output_type": "execute_result"
    }
   ],
   "source": [
    "import pandas as pd\n",
    "from pylab import *\n",
    "\n",
    "FILE = \"C:/Users/jtso/My Documents/hsa_1.gff3\"\n",
    "\n",
    "df = pd.read_table(FILE, usecols=[\"Chromosome\", \"Start\", \"End\", \"miR Name\"])\n",
    "df.head()"
   ]
  },
  {
   "cell_type": "code",
   "execution_count": 8,
   "metadata": {
    "collapsed": false
   },
   "outputs": [
    {
     "data": {
      "text/html": [
       "<div>\n",
       "<table border=\"1\" class=\"dataframe\">\n",
       "  <thead>\n",
       "    <tr style=\"text-align: right;\">\n",
       "      <th></th>\n",
       "      <th>Chrom</th>\n",
       "      <th>Start_Position</th>\n",
       "      <th>End_Position</th>\n",
       "    </tr>\n",
       "  </thead>\n",
       "  <tbody>\n",
       "    <tr>\n",
       "      <th>0</th>\n",
       "      <td>19</td>\n",
       "      <td>58864353</td>\n",
       "      <td>58864353</td>\n",
       "    </tr>\n",
       "    <tr>\n",
       "      <th>1</th>\n",
       "      <td>10</td>\n",
       "      <td>52573773</td>\n",
       "      <td>52573773</td>\n",
       "    </tr>\n",
       "    <tr>\n",
       "      <th>2</th>\n",
       "      <td>12</td>\n",
       "      <td>8995922</td>\n",
       "      <td>8995922</td>\n",
       "    </tr>\n",
       "    <tr>\n",
       "      <th>3</th>\n",
       "      <td>22</td>\n",
       "      <td>43089055</td>\n",
       "      <td>43089055</td>\n",
       "    </tr>\n",
       "    <tr>\n",
       "      <th>4</th>\n",
       "      <td>22</td>\n",
       "      <td>43089757</td>\n",
       "      <td>43089757</td>\n",
       "    </tr>\n",
       "  </tbody>\n",
       "</table>\n",
       "</div>"
      ],
      "text/plain": [
       "  Chrom  Start_Position  End_Position\n",
       "0    19        58864353      58864353\n",
       "1    10        52573773      52573773\n",
       "2    12         8995922       8995922\n",
       "3    22        43089055      43089055\n",
       "4    22        43089757      43089757"
      ]
     },
     "execution_count": 8,
     "metadata": {},
     "output_type": "execute_result"
    }
   ],
   "source": [
    "FILE2 = pd.read_csv(\"hgsc.bcm.edu__Mixed_curated_DNA_sequencing_level2.maf\", delimiter = \"\\t\")\n",
    "FILE2 = FILE2[[\"Chrom\", \"Start_Position\", \"End_Position\"]]"
   ]
  },
  {
   "cell_type": "code",
   "execution_count": 7,
   "metadata": {
    "collapsed": false
   },
   "outputs": [
    {
     "name": "stdout",
     "output_type": "stream",
     "text": [
      "{'hsa-mir-4640': 1, 'hsa-mir-320d-2': 1}\n"
     ]
    }
   ],
   "source": [
    "FILE = \"C:/Users/jtso/My Documents/hsa_1.gff3\"\n",
    "df = pd.read_table(FILE, usecols=[\"Chromosome\", \"Start\", \"End\", \"miR Name\"])\n",
    "FILE2 = pd.read_csv(\"hgsc.bcm.edu__Mixed_curated_DNA_sequencing_level2.maf\", delimiter = \"\\t\")\n",
    "FILE2 = FILE2[[\"Chrom\", \"Start_Position\", \"End_Position\"]]\n",
    "\n",
    "f = pd.DataFrame()\n",
    "g = pd.DataFrame()\n",
    "d = {}\n",
    "\n",
    "def pos2miR2(chr1, start, end):\n",
    "    global d\n",
    "    chunk = df[df[\"Chromosome\"] == chr1]  # shrink the search space to the given chr\n",
    "    for idx, row in chunk.iterrows():\n",
    "        if row[\"Start\"] <= start <= row[\"End\"] or \\\n",
    "           row[\"Start\"] <=  end  <= row[\"End\"]:\n",
    "            # get the name (either hsa-mir-### or hsa-miR-###)\n",
    "            miR = row[\"miR Name\"].split(\"Name=\")[1].split(\";\")[0]\n",
    "            d[miR] = d.get(miR,0) + 1\n",
    "\n",
    "for a in range(len(FILE2)):\n",
    "    pos2miR2((\"chr\" + str(FILE2[\"Chrom\"][a])), FILE2[\"Start_Position\"][a], FILE2[\"End_Position\"][a])\n",
    "    \n",
    "print d"
   ]
  }
 ],
 "metadata": {
  "kernelspec": {
   "display_name": "Python 2",
   "language": "python",
   "name": "python2"
  },
  "language_info": {
   "codemirror_mode": {
    "name": "ipython",
    "version": 2
   },
   "file_extension": ".py",
   "mimetype": "text/x-python",
   "name": "python",
   "nbconvert_exporter": "python",
   "pygments_lexer": "ipython2",
   "version": "2.7.10"
  }
 },
 "nbformat": 4,
 "nbformat_minor": 0
}
