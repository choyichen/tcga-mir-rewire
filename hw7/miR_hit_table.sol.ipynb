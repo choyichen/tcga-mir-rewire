{
 "cells": [
  {
   "cell_type": "markdown",
   "metadata": {},
   "source": [
    "# MAF file and miRNA hit table"
   ]
  },
  {
   "cell_type": "markdown",
   "metadata": {},
   "source": [
    "Read the maf file in the same folder. Give me a table listing all hit and non-hit miRNAs and the number of mutations on them. For example,\n",
    "\n",
    "|miR|#hits|\n",
    "|---|---|\n",
    "|miR1|2|\n",
    "|miR2|0|\n",
    "|miR3|5|"
   ]
  },
  {
   "cell_type": "markdown",
   "metadata": {},
   "source": [
    "##Reading MAF"
   ]
  },
  {
   "cell_type": "code",
   "execution_count": 2,
   "metadata": {
    "collapsed": true
   },
   "outputs": [],
   "source": [
    "import pandas as pd\n",
    "from pylab import *\n",
    "\n",
    "FILE = \"hgsc.bcm.edu__Mixed_curated_DNA_sequencing_level2.maf\""
   ]
  },
  {
   "cell_type": "code",
   "execution_count": 9,
   "metadata": {
    "collapsed": false
   },
   "outputs": [
    {
     "data": {
      "text/html": [
       "<div>\n",
       "<table border=\"1\" class=\"dataframe\">\n",
       "  <thead>\n",
       "    <tr style=\"text-align: right;\">\n",
       "      <th></th>\n",
       "      <th>Hugo_Symbol</th>\n",
       "      <th>Chrom</th>\n",
       "      <th>Start_Position</th>\n",
       "      <th>End_Position</th>\n",
       "    </tr>\n",
       "  </thead>\n",
       "  <tbody>\n",
       "    <tr>\n",
       "      <th>0</th>\n",
       "      <td>A1BG</td>\n",
       "      <td>19</td>\n",
       "      <td>58864353</td>\n",
       "      <td>58864353</td>\n",
       "    </tr>\n",
       "    <tr>\n",
       "      <th>1</th>\n",
       "      <td>A1CF</td>\n",
       "      <td>10</td>\n",
       "      <td>52573773</td>\n",
       "      <td>52573773</td>\n",
       "    </tr>\n",
       "    <tr>\n",
       "      <th>2</th>\n",
       "      <td>A2ML1</td>\n",
       "      <td>12</td>\n",
       "      <td>8995922</td>\n",
       "      <td>8995922</td>\n",
       "    </tr>\n",
       "    <tr>\n",
       "      <th>3</th>\n",
       "      <td>A4GALT</td>\n",
       "      <td>22</td>\n",
       "      <td>43089055</td>\n",
       "      <td>43089055</td>\n",
       "    </tr>\n",
       "    <tr>\n",
       "      <th>4</th>\n",
       "      <td>A4GALT</td>\n",
       "      <td>22</td>\n",
       "      <td>43089757</td>\n",
       "      <td>43089757</td>\n",
       "    </tr>\n",
       "  </tbody>\n",
       "</table>\n",
       "</div>"
      ],
      "text/plain": [
       "  Hugo_Symbol Chrom  Start_Position  End_Position\n",
       "0        A1BG    19        58864353      58864353\n",
       "1        A1CF    10        52573773      52573773\n",
       "2       A2ML1    12         8995922       8995922\n",
       "3      A4GALT    22        43089055      43089055\n",
       "4      A4GALT    22        43089757      43089757"
      ]
     },
     "execution_count": 9,
     "metadata": {},
     "output_type": "execute_result"
    }
   ],
   "source": [
    "maf = pd.read_table(FILE, usecols=[\"Hugo_Symbol\", \"Chrom\", \"Start_Position\", \"End_Position\"])\n",
    "maf.head()"
   ]
  },
  {
   "cell_type": "markdown",
   "metadata": {},
   "source": [
    "##Reading miRBase"
   ]
  },
  {
   "cell_type": "code",
   "execution_count": 11,
   "metadata": {
    "collapsed": false
   },
   "outputs": [
    {
     "data": {
      "text/html": [
       "<div>\n",
       "<table border=\"1\" class=\"dataframe\">\n",
       "  <thead>\n",
       "    <tr style=\"text-align: right;\">\n",
       "      <th></th>\n",
       "      <th>Chromosome</th>\n",
       "      <th>Start</th>\n",
       "      <th>End</th>\n",
       "      <th>miR Name</th>\n",
       "    </tr>\n",
       "  </thead>\n",
       "  <tbody>\n",
       "    <tr>\n",
       "      <th>0</th>\n",
       "      <td>chr1</td>\n",
       "      <td>17369</td>\n",
       "      <td>17436</td>\n",
       "      <td>ID=MI0022705;Alias=MI0022705;Name=hsa-mir-6859-1</td>\n",
       "    </tr>\n",
       "    <tr>\n",
       "      <th>1</th>\n",
       "      <td>chr1</td>\n",
       "      <td>17409</td>\n",
       "      <td>17431</td>\n",
       "      <td>ID=MIMAT0027618;Alias=MIMAT0027618;Name=hsa-mi...</td>\n",
       "    </tr>\n",
       "    <tr>\n",
       "      <th>2</th>\n",
       "      <td>chr1</td>\n",
       "      <td>17369</td>\n",
       "      <td>17391</td>\n",
       "      <td>ID=MIMAT0027619;Alias=MIMAT0027619;Name=hsa-mi...</td>\n",
       "    </tr>\n",
       "    <tr>\n",
       "      <th>3</th>\n",
       "      <td>chr1</td>\n",
       "      <td>30366</td>\n",
       "      <td>30503</td>\n",
       "      <td>ID=MI0006363;Alias=MI0006363;Name=hsa-mir-1302-2</td>\n",
       "    </tr>\n",
       "    <tr>\n",
       "      <th>4</th>\n",
       "      <td>chr1</td>\n",
       "      <td>30438</td>\n",
       "      <td>30458</td>\n",
       "      <td>ID=MIMAT0005890;Alias=MIMAT0005890;Name=hsa-mi...</td>\n",
       "    </tr>\n",
       "  </tbody>\n",
       "</table>\n",
       "</div>"
      ],
      "text/plain": [
       "  Chromosome  Start    End                                           miR Name\n",
       "0       chr1  17369  17436   ID=MI0022705;Alias=MI0022705;Name=hsa-mir-6859-1\n",
       "1       chr1  17409  17431  ID=MIMAT0027618;Alias=MIMAT0027618;Name=hsa-mi...\n",
       "2       chr1  17369  17391  ID=MIMAT0027619;Alias=MIMAT0027619;Name=hsa-mi...\n",
       "3       chr1  30366  30503   ID=MI0006363;Alias=MI0006363;Name=hsa-mir-1302-2\n",
       "4       chr1  30438  30458  ID=MIMAT0005890;Alias=MIMAT0005890;Name=hsa-mi..."
      ]
     },
     "execution_count": 11,
     "metadata": {},
     "output_type": "execute_result"
    }
   ],
   "source": [
    "FILE = \"../hw6/hsa.gff3\"\n",
    "df = pd.read_table(FILE, comment=\"#\", usecols=[\"Chromosome\", \"Start\", \"End\", \"miR Name\"])\n",
    "df.head()"
   ]
  },
  {
   "cell_type": "markdown",
   "metadata": {},
   "source": [
    "##Defining a searching function"
   ]
  },
  {
   "cell_type": "code",
   "execution_count": 13,
   "metadata": {
    "collapsed": true
   },
   "outputs": [],
   "source": [
    "def pos2miR(chr, start, end):\n",
    "    chunk = df[df[\"Chromosome\"] == \"chr\" + str(chr)]  # shrink the search space to the given chr\n",
    "    out = []\n",
    "    for idx, row in chunk.iterrows():\n",
    "        if row[\"Start\"] <= start <= row[\"End\"] or \\\n",
    "           row[\"Start\"] <=  end  <= row[\"End\"]:\n",
    "            # get the name (either hsa-mir-### or hsa-miR-###)\n",
    "            miR = row[\"miR Name\"].split(\"Name=\")[1].split(\";\")[0]\n",
    "            out.append(miR)\n",
    "    return out"
   ]
  },
  {
   "cell_type": "code",
   "execution_count": 15,
   "metadata": {
    "collapsed": false
   },
   "outputs": [
    {
     "data": {
      "text/plain": [
       "['hsa-mir-6859-1', 'hsa-miR-6859-3p']"
      ]
     },
     "execution_count": 15,
     "metadata": {},
     "output_type": "execute_result"
    }
   ],
   "source": [
    "# test\n",
    "pos2miR(1, 17370, 17370)"
   ]
  },
  {
   "cell_type": "code",
   "execution_count": 17,
   "metadata": {
    "collapsed": false
   },
   "outputs": [
    {
     "data": {
      "text/plain": [
       "['hsa-mir-6089-2', 'hsa-miR-6089']"
      ]
     },
     "execution_count": 17,
     "metadata": {},
     "output_type": "execute_result"
    }
   ],
   "source": [
    "# test2\n",
    "pos2miR(\"Y\", 2609229, 2609229)"
   ]
  },
  {
   "cell_type": "markdown",
   "metadata": {},
   "source": [
    "##Searching for hits"
   ]
  },
  {
   "cell_type": "code",
   "execution_count": 19,
   "metadata": {
    "collapsed": false
   },
   "outputs": [
    {
     "name": "stdout",
     "output_type": "stream",
     "text": [
      "MAGEC3 X 140926205 140926205 hits on hsa-mir-320d-2\n",
      "VARS2 6 30890885 30890885 hits on hsa-mir-4640\n"
     ]
    }
   ],
   "source": [
    "from collections import Counter\n",
    "miR2hits = Counter()\n",
    "for idx, row in maf.iterrows():\n",
    "    print idx, '\\r',\n",
    "    hits = pos2miR(row[\"Chrom\"], row[\"Start_Position\"], row[\"End_Position\"])\n",
    "    for hit in hits:\n",
    "        print row[\"Hugo_Symbol\"], row[\"Chrom\"], row[\"Start_Position\"], row[\"End_Position\"], \"hits on\", hit\n",
    "        miR2hits[hit] += 1"
   ]
  },
  {
   "cell_type": "code",
   "execution_count": 20,
   "metadata": {
    "collapsed": false
   },
   "outputs": [
    {
     "data": {
      "text/plain": [
       "Counter({'hsa-mir-4640': 1, 'hsa-mir-320d-2': 1})"
      ]
     },
     "execution_count": 20,
     "metadata": {},
     "output_type": "execute_result"
    }
   ],
   "source": [
    "miR2hits"
   ]
  }
 ],
 "metadata": {
  "kernelspec": {
   "display_name": "Python 2",
   "language": "python",
   "name": "python2"
  },
  "language_info": {
   "codemirror_mode": {
    "name": "ipython",
    "version": 2
   },
   "file_extension": ".py",
   "mimetype": "text/x-python",
   "name": "python",
   "nbconvert_exporter": "python",
   "pygments_lexer": "ipython2",
   "version": "2.7.10"
  }
 },
 "nbformat": 4,
 "nbformat_minor": 0
}
