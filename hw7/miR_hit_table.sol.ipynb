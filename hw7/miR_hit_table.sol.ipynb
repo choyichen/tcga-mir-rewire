{
 "cells": [
  {
   "cell_type": "markdown",
   "metadata": {},
   "source": [
    "# MAF file and miRNA hit table"
   ]
  },
  {
   "cell_type": "markdown",
   "metadata": {},
   "source": [
    "Read the maf file in the same folder. Give me a table listing all hit and non-hit miRNAs and the number of mutations on them. For example,\n",
    "\n",
    "|miR|#hits|\n",
    "|---|---|\n",
    "|miR1|2|\n",
    "|miR2|0|\n",
    "|miR3|5|"
   ]
  },
  {
   "cell_type": "markdown",
   "metadata": {},
   "source": [
    "##Reading MAF"
   ]
  },
  {
   "cell_type": "code",
   "execution_count": 1,
   "metadata": {
    "collapsed": true
   },
   "outputs": [],
   "source": [
    "import pandas as pd\n",
    "from pylab import *\n",
    "\n",
    "FILE = \"hgsc.bcm.edu__Mixed_curated_DNA_sequencing_level2.maf\""
   ]
  },
  {
   "cell_type": "code",
   "execution_count": 2,
   "metadata": {
    "collapsed": false
   },
   "outputs": [
    {
     "data": {
      "text/html": [
       "<div>\n",
       "<table border=\"1\" class=\"dataframe\">\n",
       "  <thead>\n",
       "    <tr style=\"text-align: right;\">\n",
       "      <th></th>\n",
       "      <th>Hugo_Symbol</th>\n",
       "      <th>Chrom</th>\n",
       "      <th>Start_Position</th>\n",
       "      <th>End_Position</th>\n",
       "    </tr>\n",
       "  </thead>\n",
       "  <tbody>\n",
       "    <tr>\n",
       "      <th>0</th>\n",
       "      <td>A1BG</td>\n",
       "      <td>19</td>\n",
       "      <td>58864353</td>\n",
       "      <td>58864353</td>\n",
       "    </tr>\n",
       "    <tr>\n",
       "      <th>1</th>\n",
       "      <td>A1CF</td>\n",
       "      <td>10</td>\n",
       "      <td>52573773</td>\n",
       "      <td>52573773</td>\n",
       "    </tr>\n",
       "    <tr>\n",
       "      <th>2</th>\n",
       "      <td>A2ML1</td>\n",
       "      <td>12</td>\n",
       "      <td>8995922</td>\n",
       "      <td>8995922</td>\n",
       "    </tr>\n",
       "    <tr>\n",
       "      <th>3</th>\n",
       "      <td>A4GALT</td>\n",
       "      <td>22</td>\n",
       "      <td>43089055</td>\n",
       "      <td>43089055</td>\n",
       "    </tr>\n",
       "    <tr>\n",
       "      <th>4</th>\n",
       "      <td>A4GALT</td>\n",
       "      <td>22</td>\n",
       "      <td>43089757</td>\n",
       "      <td>43089757</td>\n",
       "    </tr>\n",
       "  </tbody>\n",
       "</table>\n",
       "</div>"
      ],
      "text/plain": [
       "  Hugo_Symbol Chrom  Start_Position  End_Position\n",
       "0        A1BG    19        58864353      58864353\n",
       "1        A1CF    10        52573773      52573773\n",
       "2       A2ML1    12         8995922       8995922\n",
       "3      A4GALT    22        43089055      43089055\n",
       "4      A4GALT    22        43089757      43089757"
      ]
     },
     "execution_count": 2,
     "metadata": {},
     "output_type": "execute_result"
    }
   ],
   "source": [
    "maf = pd.read_table(FILE, usecols=[\"Hugo_Symbol\", \"Chrom\", \"Start_Position\", \"End_Position\"])\n",
    "maf.head()"
   ]
  },
  {
   "cell_type": "code",
   "execution_count": 3,
   "metadata": {
    "collapsed": false
   },
   "outputs": [],
   "source": [
    "# for demo only (keep only M* genes)\n",
    "#maf = maf.iloc[9848:11105]\n",
    "#maf.head()"
   ]
  },
  {
   "cell_type": "code",
   "execution_count": 4,
   "metadata": {
    "collapsed": false
   },
   "outputs": [
    {
     "name": "stdout",
     "output_type": "stream",
     "text": [
      "20166\n"
     ]
    }
   ],
   "source": [
    "# how many mutation records are there\n",
    "print len(maf)"
   ]
  },
  {
   "cell_type": "markdown",
   "metadata": {},
   "source": [
    "##Reading miRBase"
   ]
  },
  {
   "cell_type": "code",
   "execution_count": 5,
   "metadata": {
    "collapsed": false
   },
   "outputs": [
    {
     "data": {
      "text/html": [
       "<div>\n",
       "<table border=\"1\" class=\"dataframe\">\n",
       "  <thead>\n",
       "    <tr style=\"text-align: right;\">\n",
       "      <th></th>\n",
       "      <th>Chromosome</th>\n",
       "      <th>Start</th>\n",
       "      <th>End</th>\n",
       "      <th>miR Name</th>\n",
       "    </tr>\n",
       "  </thead>\n",
       "  <tbody>\n",
       "    <tr>\n",
       "      <th>0</th>\n",
       "      <td>chr1</td>\n",
       "      <td>17369</td>\n",
       "      <td>17436</td>\n",
       "      <td>ID=MI0022705;Alias=MI0022705;Name=hsa-mir-6859-1</td>\n",
       "    </tr>\n",
       "    <tr>\n",
       "      <th>1</th>\n",
       "      <td>chr1</td>\n",
       "      <td>17409</td>\n",
       "      <td>17431</td>\n",
       "      <td>ID=MIMAT0027618;Alias=MIMAT0027618;Name=hsa-mi...</td>\n",
       "    </tr>\n",
       "    <tr>\n",
       "      <th>2</th>\n",
       "      <td>chr1</td>\n",
       "      <td>17369</td>\n",
       "      <td>17391</td>\n",
       "      <td>ID=MIMAT0027619;Alias=MIMAT0027619;Name=hsa-mi...</td>\n",
       "    </tr>\n",
       "    <tr>\n",
       "      <th>3</th>\n",
       "      <td>chr1</td>\n",
       "      <td>30366</td>\n",
       "      <td>30503</td>\n",
       "      <td>ID=MI0006363;Alias=MI0006363;Name=hsa-mir-1302-2</td>\n",
       "    </tr>\n",
       "    <tr>\n",
       "      <th>4</th>\n",
       "      <td>chr1</td>\n",
       "      <td>30438</td>\n",
       "      <td>30458</td>\n",
       "      <td>ID=MIMAT0005890;Alias=MIMAT0005890;Name=hsa-mi...</td>\n",
       "    </tr>\n",
       "  </tbody>\n",
       "</table>\n",
       "</div>"
      ],
      "text/plain": [
       "  Chromosome  Start    End                                           miR Name\n",
       "0       chr1  17369  17436   ID=MI0022705;Alias=MI0022705;Name=hsa-mir-6859-1\n",
       "1       chr1  17409  17431  ID=MIMAT0027618;Alias=MIMAT0027618;Name=hsa-mi...\n",
       "2       chr1  17369  17391  ID=MIMAT0027619;Alias=MIMAT0027619;Name=hsa-mi...\n",
       "3       chr1  30366  30503   ID=MI0006363;Alias=MI0006363;Name=hsa-mir-1302-2\n",
       "4       chr1  30438  30458  ID=MIMAT0005890;Alias=MIMAT0005890;Name=hsa-mi..."
      ]
     },
     "execution_count": 5,
     "metadata": {},
     "output_type": "execute_result"
    }
   ],
   "source": [
    "FILE = \"../hw6/hsa.gff3\"\n",
    "df = pd.read_table(FILE, comment=\"#\", usecols=[\"Chromosome\", \"Start\", \"End\", \"miR Name\"])\n",
    "df.head()"
   ]
  },
  {
   "cell_type": "code",
   "execution_count": 6,
   "metadata": {
    "collapsed": false
   },
   "outputs": [
    {
     "name": "stdout",
     "output_type": "stream",
     "text": [
      "chr1\thas 398\tmiRNA records\n",
      "chr2\thas 271\tmiRNA records\n",
      "chr3\thas 227\tmiRNA records\n",
      "chr4\thas 144\tmiRNA records\n",
      "chr5\thas 175\tmiRNA records\n",
      "chr6\thas 162\tmiRNA records\n",
      "chr7\thas 198\tmiRNA records\n",
      "chr8\thas 224\tmiRNA records\n",
      "chr9\thas 207\tmiRNA records\n",
      "chr10\thas 167\tmiRNA records\n",
      "chr11\thas 255\tmiRNA records\n",
      "chr12\thas 186\tmiRNA records\n",
      "chr13\thas 97\tmiRNA records\n",
      "chr14\thas 258\tmiRNA records\n",
      "chr15\thas 158\tmiRNA records\n",
      "chr16\thas 194\tmiRNA records\n",
      "chr17\thas 284\tmiRNA records\n",
      "chr18\thas 83\tmiRNA records\n",
      "chr19\thas 376\tmiRNA records\n",
      "chr20\thas 115\tmiRNA records\n",
      "chr21\thas 54\tmiRNA records\n",
      "chr22\thas 118\tmiRNA records\n",
      "chrX\thas 310\tmiRNA records\n",
      "chrY\thas 4\tmiRNA records\n"
     ]
    }
   ],
   "source": [
    "# break df into chromosomes for speeding\n",
    "chr2df = {}\n",
    "for chr in [str(i) for i in range(1,23)] + [\"X\", \"Y\"]:\n",
    "    chr2df[chr] = df[df[\"Chromosome\"] == \"chr\" + chr]\n",
    "    print \"chr%s\\thas %d\\tmiRNA records\" % (chr, len(chr2df[chr]))"
   ]
  },
  {
   "cell_type": "markdown",
   "metadata": {},
   "source": [
    "##Defining a searching function"
   ]
  },
  {
   "cell_type": "code",
   "execution_count": 7,
   "metadata": {
    "collapsed": true
   },
   "outputs": [],
   "source": [
    "def pos2miR(chr, start, end):\n",
    "    chunk = chr2df[str(chr)]  # shrink the search space to the given chr\n",
    "    out = []\n",
    "    for idx, row in chunk.iterrows():\n",
    "        if row[\"Start\"] <= start <= row[\"End\"] or \\\n",
    "           row[\"Start\"] <=  end  <= row[\"End\"] or \\\n",
    "           (start < row[\"Start\"] and row[\"End\"] < end):\n",
    "            # get the name (either hsa-mir-### or hsa-miR-###)\n",
    "            miR = row[\"miR Name\"].split(\"Name=\")[1].split(\";\")[0]\n",
    "            out.append(miR)\n",
    "    return out"
   ]
  },
  {
   "cell_type": "code",
   "execution_count": 8,
   "metadata": {
    "collapsed": false
   },
   "outputs": [
    {
     "data": {
      "text/plain": [
       "['hsa-mir-6859-1', 'hsa-miR-6859-3p']"
      ]
     },
     "execution_count": 8,
     "metadata": {},
     "output_type": "execute_result"
    }
   ],
   "source": [
    "# test\n",
    "pos2miR(1, 17370, 17370)"
   ]
  },
  {
   "cell_type": "code",
   "execution_count": 9,
   "metadata": {
    "collapsed": false
   },
   "outputs": [
    {
     "data": {
      "text/plain": [
       "['hsa-mir-6089-2', 'hsa-miR-6089']"
      ]
     },
     "execution_count": 9,
     "metadata": {},
     "output_type": "execute_result"
    }
   ],
   "source": [
    "# test2\n",
    "pos2miR(\"Y\", 2477271, 2477370)"
   ]
  },
  {
   "cell_type": "markdown",
   "metadata": {},
   "source": [
    "##Searching for hits"
   ]
  },
  {
   "cell_type": "code",
   "execution_count": 10,
   "metadata": {
    "collapsed": false
   },
   "outputs": [
    {
     "name": "stdout",
     "output_type": "stream",
     "text": [
      "MIR124-3 20 61809858 61809858 hits on hsa-mir-124-3\n",
      "MIR135B 1 205417469 205417469 hits on hsa-mir-135b\n",
      "MIR135B 1 205417469 205417469 hits on hsa-miR-135b-3p\n",
      "MIR144 17 27188561 27188561 hits on hsa-mir-144\n",
      "MIR1469 15 96876498 96876498 hits on hsa-mir-1469\n",
      "MIR1469 15 96876498 96876498 hits on hsa-miR-1469\n",
      "MIR192 11 64658676 64658676 hits on hsa-mir-192\n",
      "MIR192 11 64658676 64658676 hits on hsa-miR-192-5p\n",
      "MIR193A 17 29887061 29887061 hits on hsa-mir-193a\n",
      "MIR194-2 11 64658846 64658846 hits on hsa-mir-194-2\n",
      "MIR194-2 11 64658846 64658846 hits on hsa-miR-194-3p\n",
      "MIR2053 8 113655752 113655752 hits on hsa-mir-2053\n",
      "MIR218-1 4 20529995 20529995 hits on hsa-mir-218-1\n",
      "MIR298 20 57393302 57393302 hits on hsa-mir-298\n",
      "MIR323B 14 101522556 101522556 hits on hsa-mir-323b\n",
      "MIR34C 11 111384236 111384236 hits on hsa-mir-34c\n",
      "MIR448 X 114058112 114058112 hits on hsa-mir-448\n",
      "MIR452 X 151128149 151128149 hits on hsa-mir-452\n",
      "MIR452 X 151128169 151128169 hits on hsa-mir-452\n",
      "MIR452 X 151128169 151128169 hits on hsa-miR-452-5p\n",
      "MIR504 X 137749950 137749950 hits on hsa-mir-504\n",
      "MIR506 X 146312342 146312342 hits on hsa-mir-506\n",
      "MIR506 X 146312360 146312360 hits on hsa-mir-506\n",
      "MIR509-1 X 146340338 146340339 hits on hsa-mir-509-2\n",
      "MIR509-1 X 146340338 146340339 hits on hsa-miR-509-5p\n",
      "MIR509-3 X 146341225 146341225 hits on hsa-mir-509-3\n",
      "MIR509-3 X 146341225 146341225 hits on hsa-miR-509-3-5p\n",
      "MIR512-1 19 54169970 54169970 hits on hsa-mir-512-1\n",
      "MIR512-1 19 54172454 54172454 hits on hsa-mir-512-2\n",
      "MIR512-2 19 54172505 54172505 hits on hsa-mir-512-2\n",
      "MIR517A 19 54215536 54215536 hits on hsa-mir-517a\n",
      "MIR517A 19 54215536 54215536 hits on hsa-miR-517-5p\n",
      "MIR520C 19 54210730 54210730 hits on hsa-mir-520c\n",
      "MIR520C 19 54210730 54210730 hits on hsa-miR-520c-5p\n",
      "MIR520F 19 54185480 54185480 hits on hsa-mir-520f\n",
      "MIR520F 19 54185480 54185480 hits on hsa-miR-520f-3p\n",
      "MIR542 X 133675462 133675462 hits on hsa-mir-542\n",
      "MIR596 8 1765425 1765425 hits on hsa-mir-596\n",
      "MIR596 8 1765425 1765425 hits on hsa-miR-596\n",
      "MIR608 10 102734778 102734778 hits on hsa-mir-608\n",
      "MIR608 10 102734778 102734778 hits on hsa-miR-608\n",
      "MIR639 19 14640387 14640387 hits on hsa-mir-639\n",
      "MIR663B 2 133014602 133014602 hits on hsa-mir-663b\n",
      "MIR663B 2 133014602 133014602 hits on hsa-mir-663b\n",
      "MIR663B 2 133014602 133014602 hits on hsa-mir-663b\n",
      "MIR663B 2 133014602 133014602 hits on hsa-mir-663b\n",
      "MIR663B 2 133014602 133014602 hits on hsa-mir-663b\n",
      "MIR663B 2 133014602 133014602 hits on hsa-mir-663b\n",
      "MIR663B 2 133014612 133014612 hits on hsa-mir-663b\n",
      "MIR663B 2 133014612 133014612 hits on hsa-mir-663b\n",
      "MIR663B 2 133014612 133014612 hits on hsa-mir-663b\n",
      "MIR663B 2 133014612 133014612 hits on hsa-mir-663b\n",
      "MIR663B 2 133014651 133014652 hits on hsa-mir-663b\n",
      "MIR875 8 100549080 100549080 hits on hsa-mir-875\n",
      "MIR892B X 145078780 145078780 hits on hsa-mir-892b\n",
      "PINK1 1 20960230 20960230 hits on hsa-mir-6084\n",
      "PINK1 1 20960230 20960230 hits on hsa-mir-6084\n",
      "PINK1 1 20960230 20960230 hits on hsa-mir-6084\n",
      "RTL1 14 101351118 101351118 hits on hsa-mir-136\n",
      "SON 21 34922970 34922970 hits on hsa-mir-6501\n",
      "SON 21 34922970 34922970 hits on hsa-miR-6501-5p\n",
      "TMEM42 3 44903434 44903434 hits on hsa-mir-564\n",
      "TMEM42 3 44903434 44903434 hits on hsa-mir-564\n"
     ]
    }
   ],
   "source": [
    "from collections import Counter\n",
    "miR2hits = Counter()\n",
    "for idx, row in maf.iterrows():\n",
    "    print idx, '\\r',\n",
    "    hits = pos2miR(row[\"Chrom\"], row[\"Start_Position\"], row[\"End_Position\"])\n",
    "    for hit in hits:\n",
    "        print row[\"Hugo_Symbol\"], row[\"Chrom\"], row[\"Start_Position\"], row[\"End_Position\"], \"hits on\", hit\n",
    "        miR2hits[hit] += 1"
   ]
  },
  {
   "cell_type": "code",
   "execution_count": 11,
   "metadata": {
    "collapsed": false
   },
   "outputs": [
    {
     "data": {
      "text/plain": [
       "hsa-miR-135b-3p      1\n",
       "hsa-miR-1469         1\n",
       "hsa-miR-192-5p       1\n",
       "hsa-miR-194-3p       1\n",
       "hsa-miR-452-5p       1\n",
       "hsa-miR-509-3-5p     1\n",
       "hsa-miR-509-5p       1\n",
       "hsa-miR-517-5p       1\n",
       "hsa-miR-520c-5p      1\n",
       "hsa-miR-520f-3p      1\n",
       "hsa-miR-596          1\n",
       "hsa-miR-608          1\n",
       "hsa-miR-6501-5p      1\n",
       "hsa-mir-124-3        1\n",
       "hsa-mir-135b         1\n",
       "hsa-mir-136          1\n",
       "hsa-mir-144          1\n",
       "hsa-mir-1469         1\n",
       "hsa-mir-192          1\n",
       "hsa-mir-193a         1\n",
       "hsa-mir-194-2        1\n",
       "hsa-mir-2053         1\n",
       "hsa-mir-218-1        1\n",
       "hsa-mir-298          1\n",
       "hsa-mir-323b         1\n",
       "hsa-mir-34c          1\n",
       "hsa-mir-448          1\n",
       "hsa-mir-452          2\n",
       "hsa-mir-504          1\n",
       "hsa-mir-506          2\n",
       "hsa-mir-509-2        1\n",
       "hsa-mir-509-3        1\n",
       "hsa-mir-512-1        1\n",
       "hsa-mir-512-2        2\n",
       "hsa-mir-517a         1\n",
       "hsa-mir-520c         1\n",
       "hsa-mir-520f         1\n",
       "hsa-mir-542          1\n",
       "hsa-mir-564          2\n",
       "hsa-mir-596          1\n",
       "hsa-mir-608          1\n",
       "hsa-mir-6084         3\n",
       "hsa-mir-639          1\n",
       "hsa-mir-6501         1\n",
       "hsa-mir-663b        11\n",
       "hsa-mir-875          1\n",
       "hsa-mir-892b         1\n",
       "dtype: int64"
      ]
     },
     "execution_count": 11,
     "metadata": {},
     "output_type": "execute_result"
    }
   ],
   "source": [
    "pd.Series(miR2hits)"
   ]
  }
 ],
 "metadata": {
  "kernelspec": {
   "display_name": "Python 2",
   "language": "python",
   "name": "python2"
  },
  "language_info": {
   "codemirror_mode": {
    "name": "ipython",
    "version": 2
   },
   "file_extension": ".py",
   "mimetype": "text/x-python",
   "name": "python",
   "nbconvert_exporter": "python",
   "pygments_lexer": "ipython2",
   "version": "2.7.10"
  }
 },
 "nbformat": 4,
 "nbformat_minor": 0
}
