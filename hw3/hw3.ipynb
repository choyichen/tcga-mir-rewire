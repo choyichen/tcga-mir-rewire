{
 "cells": [
  {
   "cell_type": "markdown",
   "metadata": {},
   "source": [
    "# Homework 3 --- Get the finalist"
   ]
  },
  {
   "cell_type": "markdown",
   "metadata": {},
   "source": [
    "`hw3.csv` is a comma-separated-value (CSV) file that contains the result of \n",
    "semifinals for Men's 50m Breaststroke in 14th FINA WORLD CHAMPIONSHIPS.\n",
    "\n",
    "Accroding to the result, please tell me who will enter the final.\n",
    "Only the fastest 8 swimmers in the semifinals can race in the final;\n",
    "that is, you have to rank the 16 swimmers in semifinals based on their \n",
    "performance (finish time) and determine who are the best 8 swimmers.\n",
    "\n",
    "Basic requirement\n",
    "-----------------\n",
    "\n",
    "Please finish this script to print the times of the best 8 swimmers\n",
    "in the order of their performance (time) [the fastest ranks on top].\n",
    "\n",
    "Example outputs:\n",
    "\n",
    "```\n",
    "26.90\n",
    "26.95\n",
    "27.33\n",
    "... and so on\n",
    "```\n",
    "\n",
    "Advanced requirement\n",
    "--------------------\n",
    "\n",
    "Print not only the times but also the names of the 8 finalists.\n",
    "\n",
    "Example outputs (LastName FirstName Time):\n",
    "\n",
    "```\n",
    "VAN DER BURGH Cameron 26.90\n",
    "FRANCA DA SILVA Felipe 26.95\n",
    "DALE OEN Alexander 27.33\n",
    "... and so on\n",
    "```\n",
    "\n",
    "Bonus\n",
    "-----\n",
    "\n",
    "Use `pandas` to fulfill all requirements.\n",
    "\n",
    "\n",
    "Notes\n",
    "-----\n",
    "\n",
    "Only the best 8 swimmers can be finalists.\n",
    "If there are swimmers having the same time, print their names in lexical order.\n",
    "`hw3.csv` and this script must be placed in the same folder.\n",
    "Don't worry about how to read the file. I have done this part for you :)\n",
    "\n",
    "\n",
    "Hints\n",
    "-----\n",
    "\n",
    "In a CSV file, lines represent rows and commas separate the columns.\n",
    "You may try to open `hw3.csv` with Notepad of Excel to get a global view.\n",
    "String methods, such as strip(), split(), and sort(), are your good friends.\n",
    "List comprehension is your powerful weapon.\n",
    "\n",
    "Push back to GitHub\n",
    "--------------------\n",
    "\n",
    "See the PowerPoint slides."
   ]
  },
  {
   "cell_type": "markdown",
   "metadata": {},
   "source": [
    "## Start"
   ]
  },
  {
   "cell_type": "code",
   "execution_count": 1,
   "metadata": {
    "collapsed": true
   },
   "outputs": [],
   "source": [
    "# Here, we use the \"readlines\" method to read the file contents from <hw3.csv>\n",
    "# into a list named \"data.\"\n",
    "data = open('hw3.csv').readlines()"
   ]
  },
  {
   "cell_type": "markdown",
   "metadata": {},
   "source": [
    "Now, \"data\" is a list of strings; each string is a line in `hw3.csv`.\n",
    "\n",
    "For example, if you print \"data\" in the console, you will see:\n"
   ]
  },
  {
   "cell_type": "code",
   "execution_count": 2,
   "metadata": {
    "collapsed": false
   },
   "outputs": [
    {
     "data": {
      "text/plain": [
       "['Heat,Lane,LastName,FirstName,YOB,NOC,RT,Time\\n',\n",
       " '1,1,SILADJI,Caba,1990,SRB,0.69,27.89\\n',\n",
       " '1,2,SCOZZOLI,Fabio,1988,ITA,0.62,27.37\\n',\n",
       " '1,3,SNYDERS,Glenn,1987,NZL,0.66,27.64\\n',\n",
       " '1,4,MARKIC,Matjaz,1983,SLO,0.73,27.71\\n',\n",
       " '1,5,GANGLOFF,Mark,1982,USA,0.67,27.57\\n',\n",
       " '1,6,FELDWEHR,Hendrik,1986,GER,0.70,27.53\\n',\n",
       " '1,7,BARTUNEK,Petr,1991,CZE,0.64,27.87\\n',\n",
       " '1,8,POLYAKOV,Vladislav,1983,KAZ,0.77,27.81\\n',\n",
       " '2,1,RICKARD,Brenton,1983,AUS,0.71,27.80\\n',\n",
       " '2,2,AGACHE,Dragos,1984,ROU,0.76,27.71\\n',\n",
       " '2,3,DALE OEN,Alexander,1985,NOR,0.70,27.33\\n',\n",
       " '2,4,FRANCA DA SILVA,Felipe,1987,BRA,0.68,26.95\\n',\n",
       " '2,5,DUGONJIC,Damir,1988,SLO,0.75,27.51\\n',\n",
       " '2,6,VAN DER BURGH,Cameron,1988,RSA,0.63,26.90\\n',\n",
       " '2,7,TRIZNOV,Aleksandr,1991,RUS,0.70,27.73\\n',\n",
       " '2,8,STEKELENBURG,Lennart,1986,NED,0.69,27.51\\n']"
      ]
     },
     "execution_count": 2,
     "metadata": {},
     "output_type": "execute_result"
    }
   ],
   "source": [
    "data"
   ]
  },
  {
   "cell_type": "code",
   "execution_count": 129,
   "metadata": {
    "collapsed": false
   },
   "outputs": [
    {
     "name": "stdout",
     "output_type": "stream",
     "text": [
      "['VAN DER BURGH', 'Cameron', 26.9]\n",
      "['FRANCA DA SILVA', 'Felipe', 26.95]\n",
      "['DALE OEN', 'Alexander', 27.33]\n",
      "['SCOZZOLI', 'Fabio', 27.37]\n",
      "['DUGONJIC', 'Damir', 27.51]\n",
      "['STEKELENBURG', 'Lennart', 27.51]\n",
      "['FELDWEHR', 'Hendrik', 27.53]\n",
      "['GANGLOFF', 'Mark', 27.57]\n"
     ]
    }
   ],
   "source": [
    "#Regular Python Method\n",
    "timelist = list()\n",
    "for item in data:\n",
    "    if item.startswith(\"Heat\"):\n",
    "        continue\n",
    "    item = item.rstrip()\n",
    "    words = item.split(\",\")\n",
    "    time = [float(words[7]), words[2], words[3],]\n",
    "    timelist.append(time)\n",
    "timelist.sort()\n",
    "tl = timelist[0:8]\n",
    "order=[1,2,0]\n",
    "for line in tl:\n",
    "    final = [line[i] for i in order]\n",
    "    print final"
   ]
  },
  {
   "cell_type": "code",
   "execution_count": 130,
   "metadata": {
    "collapsed": false
   },
   "outputs": [
    {
     "data": {
      "text/html": [
       "<div>\n",
       "<table border=\"1\" class=\"dataframe\">\n",
       "  <thead>\n",
       "    <tr style=\"text-align: right;\">\n",
       "      <th></th>\n",
       "      <th>LastName</th>\n",
       "      <th>FirstName</th>\n",
       "      <th>Time</th>\n",
       "    </tr>\n",
       "  </thead>\n",
       "  <tbody>\n",
       "    <tr>\n",
       "      <th>13</th>\n",
       "      <td>VAN DER BURGH</td>\n",
       "      <td>Cameron</td>\n",
       "      <td>26.90</td>\n",
       "    </tr>\n",
       "    <tr>\n",
       "      <th>11</th>\n",
       "      <td>FRANCA DA SILVA</td>\n",
       "      <td>Felipe</td>\n",
       "      <td>26.95</td>\n",
       "    </tr>\n",
       "    <tr>\n",
       "      <th>10</th>\n",
       "      <td>DALE OEN</td>\n",
       "      <td>Alexander</td>\n",
       "      <td>27.33</td>\n",
       "    </tr>\n",
       "    <tr>\n",
       "      <th>1</th>\n",
       "      <td>SCOZZOLI</td>\n",
       "      <td>Fabio</td>\n",
       "      <td>27.37</td>\n",
       "    </tr>\n",
       "    <tr>\n",
       "      <th>12</th>\n",
       "      <td>DUGONJIC</td>\n",
       "      <td>Damir</td>\n",
       "      <td>27.51</td>\n",
       "    </tr>\n",
       "    <tr>\n",
       "      <th>15</th>\n",
       "      <td>STEKELENBURG</td>\n",
       "      <td>Lennart</td>\n",
       "      <td>27.51</td>\n",
       "    </tr>\n",
       "    <tr>\n",
       "      <th>5</th>\n",
       "      <td>FELDWEHR</td>\n",
       "      <td>Hendrik</td>\n",
       "      <td>27.53</td>\n",
       "    </tr>\n",
       "    <tr>\n",
       "      <th>4</th>\n",
       "      <td>GANGLOFF</td>\n",
       "      <td>Mark</td>\n",
       "      <td>27.57</td>\n",
       "    </tr>\n",
       "    <tr>\n",
       "      <th>2</th>\n",
       "      <td>SNYDERS</td>\n",
       "      <td>Glenn</td>\n",
       "      <td>27.64</td>\n",
       "    </tr>\n",
       "    <tr>\n",
       "      <th>3</th>\n",
       "      <td>MARKIC</td>\n",
       "      <td>Matjaz</td>\n",
       "      <td>27.71</td>\n",
       "    </tr>\n",
       "    <tr>\n",
       "      <th>9</th>\n",
       "      <td>AGACHE</td>\n",
       "      <td>Dragos</td>\n",
       "      <td>27.71</td>\n",
       "    </tr>\n",
       "    <tr>\n",
       "      <th>14</th>\n",
       "      <td>TRIZNOV</td>\n",
       "      <td>Aleksandr</td>\n",
       "      <td>27.73</td>\n",
       "    </tr>\n",
       "    <tr>\n",
       "      <th>8</th>\n",
       "      <td>RICKARD</td>\n",
       "      <td>Brenton</td>\n",
       "      <td>27.80</td>\n",
       "    </tr>\n",
       "    <tr>\n",
       "      <th>7</th>\n",
       "      <td>POLYAKOV</td>\n",
       "      <td>Vladislav</td>\n",
       "      <td>27.81</td>\n",
       "    </tr>\n",
       "    <tr>\n",
       "      <th>6</th>\n",
       "      <td>BARTUNEK</td>\n",
       "      <td>Petr</td>\n",
       "      <td>27.87</td>\n",
       "    </tr>\n",
       "    <tr>\n",
       "      <th>0</th>\n",
       "      <td>SILADJI</td>\n",
       "      <td>Caba</td>\n",
       "      <td>27.89</td>\n",
       "    </tr>\n",
       "  </tbody>\n",
       "</table>\n",
       "</div>"
      ],
      "text/plain": [
       "           LastName  FirstName   Time\n",
       "13    VAN DER BURGH    Cameron  26.90\n",
       "11  FRANCA DA SILVA     Felipe  26.95\n",
       "10         DALE OEN  Alexander  27.33\n",
       "1          SCOZZOLI      Fabio  27.37\n",
       "12         DUGONJIC      Damir  27.51\n",
       "15     STEKELENBURG    Lennart  27.51\n",
       "5          FELDWEHR    Hendrik  27.53\n",
       "4          GANGLOFF       Mark  27.57\n",
       "2           SNYDERS      Glenn  27.64\n",
       "3            MARKIC     Matjaz  27.71\n",
       "9            AGACHE     Dragos  27.71\n",
       "14          TRIZNOV  Aleksandr  27.73\n",
       "8           RICKARD    Brenton  27.80\n",
       "7          POLYAKOV  Vladislav  27.81\n",
       "6          BARTUNEK       Petr  27.87\n",
       "0           SILADJI       Caba  27.89"
      ]
     },
     "execution_count": 130,
     "metadata": {},
     "output_type": "execute_result"
    }
   ],
   "source": [
    "#Pandas Method\n",
    "import pandas as pd\n",
    "timetable = pd.read_csv(\"hw3.csv\")\n",
    "timetable\n",
    "lntable = timetable[\"LastName\"].copy()\n",
    "lntable\n",
    "fntable = timetable[\"FirstName\"].copy()\n",
    "fntable\n",
    "ttable = timetable[\"Time\"].copy()\n",
    "ttable\n",
    "stats = pd.concat([lntable, fntable, ttable], axis=1)\n",
    "sortedstats = stats.sort((\"Time\"), ascending=True)\n",
    "sortedstats"
   ]
  }
 ],
 "metadata": {
  "kernelspec": {
   "display_name": "Python 2",
   "language": "python",
   "name": "python2"
  },
  "language_info": {
   "codemirror_mode": {
    "name": "ipython",
    "version": 2
   },
   "file_extension": ".py",
   "mimetype": "text/x-python",
   "name": "python",
   "nbconvert_exporter": "python",
   "pygments_lexer": "ipython2",
   "version": "2.7.10"
  }
 },
 "nbformat": 4,
 "nbformat_minor": 0
}
