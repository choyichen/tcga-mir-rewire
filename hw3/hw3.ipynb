{
 "cells": [
  {
   "cell_type": "markdown",
   "metadata": {},
   "source": [
    "# Homework 3 --- Get the finalist"
   ]
  },
  {
   "cell_type": "markdown",
   "metadata": {},
   "source": [
    "`hw3.csv` is a comma-separated-value (CSV) file that contains the result of \n",
    "semifinals for Men's 50m Breaststroke in 14th FINA WORLD CHAMPIONSHIPS.\n",
    "\n",
    "Accroding to the result, please tell me who will enter the final.\n",
    "Only the fastest 8 swimmers in the semifinals can race in the final;\n",
    "that is, you have to rank the 16 swimmers in semifinals based on their \n",
    "performance (finish time) and determine who are the best 8 swimmers.\n",
    "\n",
    "Basic requirement\n",
    "-----------------\n",
    "\n",
    "Please finish this script to print the times of the best 8 swimmers\n",
    "in the order of their performance (time) [the fastest ranks on top].\n",
    "\n",
    "Example outputs:\n",
    "\n",
    "```\n",
    "26.90\n",
    "26.95\n",
    "27.33\n",
    "... and so on\n",
    "```\n",
    "\n",
    "Advanced requirement\n",
    "--------------------\n",
    "\n",
    "Print not only the times but also the names of the 8 finalists.\n",
    "\n",
    "Example outputs (LastName FirstName Time):\n",
    "\n",
    "```\n",
    "VAN DER BURGH Cameron 26.90\n",
    "FRANCA DA SILVA Felipe 26.95\n",
    "DALE OEN Alexander 27.33\n",
    "... and so on\n",
    "```\n",
    "\n",
    "Bonus\n",
    "-----\n",
    "\n",
    "Use `pandas` to fulfill all requirements.\n",
    "\n",
    "\n",
    "Notes\n",
    "-----\n",
    "\n",
    "Only the best 8 swimmers can be finalists.\n",
    "If there are swimmers having the same time, print their names in lexical order.\n",
    "`hw3.csv` and this script must be placed in the same folder.\n",
    "Don't worry about how to read the file. I have done this part for you :)\n",
    "\n",
    "\n",
    "Hints\n",
    "-----\n",
    "\n",
    "In a CSV file, lines represent rows and commas separate the columns.\n",
    "You may try to open `hw3.csv` with Notepad of Excel to get a global view.\n",
    "String methods, such as strip(), split(), and sort(), are your good friends.\n",
    "List comprehension is your powerful weapon.\n"
   ]
  },
  {
   "cell_type": "markdown",
   "metadata": {},
   "source": [
    "## Start"
   ]
  },
  {
   "cell_type": "code",
   "execution_count": 12,
   "metadata": {
    "collapsed": true
   },
   "outputs": [],
   "source": [
    "# Here, we use the \"readlines\" method to read the file contents from <hw3.csv>\n",
    "# into a list named \"data.\"\n",
    "data = open('hw3.csv').readlines()"
   ]
  },
  {
   "cell_type": "markdown",
   "metadata": {},
   "source": [
    "Now, \"data\" is a list of strings; each string is a line in `hw3.csv`.\n",
    "\n",
    "For example, if you print \"data\" in the console, you will see:\n"
   ]
  },
  {
   "cell_type": "code",
   "execution_count": 14,
   "metadata": {
    "collapsed": false
   },
   "outputs": [
    {
     "data": {
      "text/plain": [
       "['Heat,Lane,LastName,FirstName,YOB,NOC,RT,Time\\r\\n',\n",
       " '1,1,SILADJI,Caba,1990,SRB,0.69,27.89\\r\\n',\n",
       " '1,2,SCOZZOLI,Fabio,1988,ITA,0.62,27.37\\r\\n',\n",
       " '1,3,SNYDERS,Glenn,1987,NZL,0.66,27.64\\r\\n',\n",
       " '1,4,MARKIC,Matjaz,1983,SLO,0.73,27.71\\r\\n',\n",
       " '1,5,GANGLOFF,Mark,1982,USA,0.67,27.57\\r\\n',\n",
       " '1,6,FELDWEHR,Hendrik,1986,GER,0.70,27.53\\r\\n',\n",
       " '1,7,BARTUNEK,Petr,1991,CZE,0.64,27.87\\r\\n',\n",
       " '1,8,POLYAKOV,Vladislav,1983,KAZ,0.77,27.81\\r\\n',\n",
       " '2,1,RICKARD,Brenton,1983,AUS,0.71,27.80\\r\\n',\n",
       " '2,2,AGACHE,Dragos,1984,ROU,0.76,27.71\\r\\n',\n",
       " '2,3,DALE OEN,Alexander,1985,NOR,0.70,27.33\\r\\n',\n",
       " '2,4,FRANCA DA SILVA,Felipe,1987,BRA,0.68,26.95\\r\\n',\n",
       " '2,5,DUGONJIC,Damir,1988,SLO,0.75,27.51\\r\\n',\n",
       " '2,6,VAN DER BURGH,Cameron,1988,RSA,0.63,26.90\\r\\n',\n",
       " '2,7,TRIZNOV,Aleksandr,1991,RUS,0.70,27.73\\r\\n',\n",
       " '2,8,STEKELENBURG,Lennart,1986,NED,0.69,27.51\\r\\n']"
      ]
     },
     "execution_count": 14,
     "metadata": {},
     "output_type": "execute_result"
    }
   ],
   "source": [
    "data"
   ]
  },
  {
   "cell_type": "markdown",
   "metadata": {},
   "source": [
    "Now, it's your turn :-)"
   ]
  }
 ],
 "metadata": {
  "kernelspec": {
   "display_name": "Python 2",
   "language": "python",
   "name": "python2"
  },
  "language_info": {
   "codemirror_mode": {
    "name": "ipython",
    "version": 2
   },
   "file_extension": ".py",
   "mimetype": "text/x-python",
   "name": "python",
   "nbconvert_exporter": "python",
   "pygments_lexer": "ipython2",
   "version": "2.7.10"
  }
 },
 "nbformat": 4,
 "nbformat_minor": 0
}
