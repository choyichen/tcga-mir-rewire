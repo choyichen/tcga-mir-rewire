{
 "cells": [
  {
   "cell_type": "markdown",
   "metadata": {},
   "source": [
    "# Homework 4: miR regulatory network"
   ]
  },
  {
   "cell_type": "markdown",
   "metadata": {},
   "source": [
    "`hw4.tsv` is a tab-separated values (tsv) file that contains the predicted targets of human microRNAs (adapted from TargetScan 6.2)\n",
    "\n",
    "Write a Python program to construct the network\n",
    "\n",
    "Print out the following information:\n",
    "\n",
    "* The name of the miR family that has the max out-degree\n",
    "* The number of the max out-degree\n",
    "* Average out-degree of all miR families (round to 2 decimal point)\n",
    "* The symbol of the gene that has the max in-degree\n",
    "* The number of the max in-degree\n",
    "* Average in-degree of all genes  (round to 2 decimal point)\n",
    "* The names of the 2 distinct miR families that have most shared targets\n",
    "* The number of the most shared targets\n",
    "\n",
    "Hints:\n",
    "\n",
    "* You may use dicts and sets to implement the network.\n",
    "* When output, use single space to separate strings.\n",
    "\n",
    "\n",
    "Output example:\n",
    "```\n",
    "let-7/98\n",
    "876\n",
    "54.32\n",
    "TP53\n",
    "21\n",
    "3.54\n",
    "miR-123 miR-456\n",
    "101\n",
    "```\n"
   ]
  },
  {
   "cell_type": "code",
   "execution_count": null,
   "metadata": {
    "collapsed": true
   },
   "outputs": [],
   "source": []
  }
 ],
 "metadata": {
  "kernelspec": {
   "display_name": "Python 2",
   "language": "python",
   "name": "python2"
  },
  "language_info": {
   "codemirror_mode": {
    "name": "ipython",
    "version": 2
   },
   "file_extension": ".py",
   "mimetype": "text/x-python",
   "name": "python",
   "nbconvert_exporter": "python",
   "pygments_lexer": "ipython2",
   "version": "2.7.10"
  }
 },
 "nbformat": 4,
 "nbformat_minor": 0
}
