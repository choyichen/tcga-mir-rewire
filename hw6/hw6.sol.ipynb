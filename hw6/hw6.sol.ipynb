{
 "cells": [
  {
   "cell_type": "markdown",
   "metadata": {},
   "source": [
    "#Hit a miR?"
   ]
  },
  {
   "cell_type": "markdown",
   "metadata": {},
   "source": [
    "Give me a function that takes a genomic coordinate from user, check if the location overlaps with any single miRNA, and return the name of that miRNA if it exists. If no hit, return None."
   ]
  },
  {
   "cell_type": "code",
   "execution_count": 5,
   "metadata": {
    "collapsed": false
   },
   "outputs": [
    {
     "data": {
      "text/html": [
       "<div>\n",
       "<table border=\"1\" class=\"dataframe\">\n",
       "  <thead>\n",
       "    <tr style=\"text-align: right;\">\n",
       "      <th></th>\n",
       "      <th>Chromosome</th>\n",
       "      <th>Start</th>\n",
       "      <th>End</th>\n",
       "      <th>miR Name</th>\n",
       "    </tr>\n",
       "  </thead>\n",
       "  <tbody>\n",
       "    <tr>\n",
       "      <th>0</th>\n",
       "      <td>chr1</td>\n",
       "      <td>17369</td>\n",
       "      <td>17436</td>\n",
       "      <td>ID=MI0022705;Alias=MI0022705;Name=hsa-mir-6859-1</td>\n",
       "    </tr>\n",
       "    <tr>\n",
       "      <th>1</th>\n",
       "      <td>chr1</td>\n",
       "      <td>17409</td>\n",
       "      <td>17431</td>\n",
       "      <td>ID=MIMAT0027618;Alias=MIMAT0027618;Name=hsa-mi...</td>\n",
       "    </tr>\n",
       "    <tr>\n",
       "      <th>2</th>\n",
       "      <td>chr1</td>\n",
       "      <td>17369</td>\n",
       "      <td>17391</td>\n",
       "      <td>ID=MIMAT0027619;Alias=MIMAT0027619;Name=hsa-mi...</td>\n",
       "    </tr>\n",
       "    <tr>\n",
       "      <th>3</th>\n",
       "      <td>chr1</td>\n",
       "      <td>30366</td>\n",
       "      <td>30503</td>\n",
       "      <td>ID=MI0006363;Alias=MI0006363;Name=hsa-mir-1302-2</td>\n",
       "    </tr>\n",
       "    <tr>\n",
       "      <th>4</th>\n",
       "      <td>chr1</td>\n",
       "      <td>30438</td>\n",
       "      <td>30458</td>\n",
       "      <td>ID=MIMAT0005890;Alias=MIMAT0005890;Name=hsa-mi...</td>\n",
       "    </tr>\n",
       "  </tbody>\n",
       "</table>\n",
       "</div>"
      ],
      "text/plain": [
       "  Chromosome  Start    End                                           miR Name\n",
       "0       chr1  17369  17436   ID=MI0022705;Alias=MI0022705;Name=hsa-mir-6859-1\n",
       "1       chr1  17409  17431  ID=MIMAT0027618;Alias=MIMAT0027618;Name=hsa-mi...\n",
       "2       chr1  17369  17391  ID=MIMAT0027619;Alias=MIMAT0027619;Name=hsa-mi...\n",
       "3       chr1  30366  30503   ID=MI0006363;Alias=MI0006363;Name=hsa-mir-1302-2\n",
       "4       chr1  30438  30458  ID=MIMAT0005890;Alias=MIMAT0005890;Name=hsa-mi..."
      ]
     },
     "execution_count": 5,
     "metadata": {},
     "output_type": "execute_result"
    }
   ],
   "source": [
    "import pandas as pd\n",
    "from pylab import *\n",
    "\n",
    "FILE = \"hsa.gff3\"\n",
    "\n",
    "df = pd.read_table(FILE, comment=\"#\", usecols=[\"Chromosome\", \"Start\", \"End\", \"miR Name\"])\n",
    "df.head()"
   ]
  },
  {
   "cell_type": "code",
   "execution_count": 39,
   "metadata": {
    "collapsed": true
   },
   "outputs": [],
   "source": [
    "def pos2miR(chr, start, end):\n",
    "    chunk = df[df[\"Chromosome\"] == chr]  # shrink the search space to the given chr\n",
    "    out = []\n",
    "    for idx, row in chunk.iterrows():\n",
    "        if row[\"Start\"] <= start <= row[\"End\"] or \\\n",
    "           row[\"Start\"] <=  end  <= row[\"End\"]:\n",
    "            # get the name (either hsa-mir-### or hsa-miR-###)\n",
    "            miR = row[\"miR Name\"].split(\"Name=\")[1].split(\";\")[0]\n",
    "            out.append(miR)\n",
    "    return out"
   ]
  },
  {
   "cell_type": "markdown",
   "metadata": {},
   "source": [
    "## Demo"
   ]
  },
  {
   "cell_type": "code",
   "execution_count": 41,
   "metadata": {
    "collapsed": false
   },
   "outputs": [
    {
     "data": {
      "text/plain": [
       "['hsa-mir-6859-1', 'hsa-miR-6859-3p']"
      ]
     },
     "execution_count": 41,
     "metadata": {},
     "output_type": "execute_result"
    }
   ],
   "source": [
    "pos2miR(\"chr1\", 17370, 17370)"
   ]
  },
  {
   "cell_type": "code",
   "execution_count": 42,
   "metadata": {
    "collapsed": false
   },
   "outputs": [
    {
     "data": {
      "text/plain": [
       "['hsa-mir-6089-2', 'hsa-miR-6089']"
      ]
     },
     "execution_count": 42,
     "metadata": {},
     "output_type": "execute_result"
    }
   ],
   "source": [
    "pos2miR(\"chrY\", 2609229, 2609229)"
   ]
  }
 ],
 "metadata": {
  "kernelspec": {
   "display_name": "Python 2",
   "language": "python",
   "name": "python2"
  },
  "language_info": {
   "codemirror_mode": {
    "name": "ipython",
    "version": 2
   },
   "file_extension": ".py",
   "mimetype": "text/x-python",
   "name": "python",
   "nbconvert_exporter": "python",
   "pygments_lexer": "ipython2",
   "version": "2.7.10"
  }
 },
 "nbformat": 4,
 "nbformat_minor": 0
}
