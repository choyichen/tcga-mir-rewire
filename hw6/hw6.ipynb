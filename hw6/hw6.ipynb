{
 "cells": [
  {
   "cell_type": "markdown",
   "metadata": {},
   "source": [
    "#Hit a miR?"
   ]
  },
  {
   "cell_type": "markdown",
   "metadata": {},
   "source": [
    "Give me a function that takes a genomic coordinate from user, check if the location overlaps with any single miRNA, and return the name of that miRNA if it exists. If no hit, return None."
   ]
  },
  {
   "cell_type": "code",
   "execution_count": 3,
   "metadata": {
    "collapsed": false
   },
   "outputs": [
    {
     "data": {
      "text/html": [
       "<div>\n",
       "<table border=\"1\" class=\"dataframe\">\n",
       "  <thead>\n",
       "    <tr style=\"text-align: right;\">\n",
       "      <th></th>\n",
       "      <th>Chromosome</th>\n",
       "      <th>Start</th>\n",
       "      <th>End</th>\n",
       "      <th>miR Name</th>\n",
       "    </tr>\n",
       "  </thead>\n",
       "  <tbody>\n",
       "    <tr>\n",
       "      <th>0</th>\n",
       "      <td>chr1</td>\n",
       "      <td>17369</td>\n",
       "      <td>17436</td>\n",
       "      <td>ID=MI0022705;Alias=MI0022705;Name=hsa-mir-6859-1</td>\n",
       "    </tr>\n",
       "    <tr>\n",
       "      <th>1</th>\n",
       "      <td>chr1</td>\n",
       "      <td>17409</td>\n",
       "      <td>17431</td>\n",
       "      <td>ID=MIMAT0027618;Alias=MIMAT0027618;Name=hsa-mi...</td>\n",
       "    </tr>\n",
       "    <tr>\n",
       "      <th>2</th>\n",
       "      <td>chr1</td>\n",
       "      <td>17369</td>\n",
       "      <td>17391</td>\n",
       "      <td>ID=MIMAT0027619;Alias=MIMAT0027619;Name=hsa-mi...</td>\n",
       "    </tr>\n",
       "    <tr>\n",
       "      <th>3</th>\n",
       "      <td>chr1</td>\n",
       "      <td>30366</td>\n",
       "      <td>30503</td>\n",
       "      <td>ID=MI0006363;Alias=MI0006363;Name=hsa-mir-1302-2</td>\n",
       "    </tr>\n",
       "    <tr>\n",
       "      <th>4</th>\n",
       "      <td>chr1</td>\n",
       "      <td>30438</td>\n",
       "      <td>30458</td>\n",
       "      <td>ID=MIMAT0005890;Alias=MIMAT0005890;Name=hsa-mi...</td>\n",
       "    </tr>\n",
       "  </tbody>\n",
       "</table>\n",
       "</div>"
      ],
      "text/plain": [
       "  Chromosome  Start    End                                           miR Name\n",
       "0       chr1  17369  17436   ID=MI0022705;Alias=MI0022705;Name=hsa-mir-6859-1\n",
       "1       chr1  17409  17431  ID=MIMAT0027618;Alias=MIMAT0027618;Name=hsa-mi...\n",
       "2       chr1  17369  17391  ID=MIMAT0027619;Alias=MIMAT0027619;Name=hsa-mi...\n",
       "3       chr1  30366  30503   ID=MI0006363;Alias=MI0006363;Name=hsa-mir-1302-2\n",
       "4       chr1  30438  30458  ID=MIMAT0005890;Alias=MIMAT0005890;Name=hsa-mi..."
      ]
     },
     "execution_count": 3,
     "metadata": {},
     "output_type": "execute_result"
    }
   ],
   "source": [
    "import pandas as pd\n",
    "from pylab import *\n",
    "\n",
    "FILE = pd.read_csv(\"hsa.gff3\", skiprows=12, delimiter = \"\\t\")  # Genome coordinates file downloaded from miRBase v20 (GRCh37)\n",
    "FILE = FILE[[\"Chromosome\", \"Start\", \"End\", \"miR Name\"]]\n",
    "FILE.head()"
   ]
  },
  {
   "cell_type": "code",
   "execution_count": 7,
   "metadata": {
    "collapsed": false
   },
   "outputs": [
    {
     "data": {
      "text/html": [
       "<div>\n",
       "<table border=\"1\" class=\"dataframe\">\n",
       "  <thead>\n",
       "    <tr style=\"text-align: right;\">\n",
       "      <th></th>\n",
       "      <th>miR Name</th>\n",
       "    </tr>\n",
       "  </thead>\n",
       "  <tbody>\n",
       "    <tr>\n",
       "      <th>0</th>\n",
       "      <td>hsa-mir-6859-1</td>\n",
       "    </tr>\n",
       "    <tr>\n",
       "      <th>1</th>\n",
       "      <td>hsa-miR-6859-5p</td>\n",
       "    </tr>\n",
       "    <tr>\n",
       "      <th>2</th>\n",
       "      <td>hsa-miR-6859-3p</td>\n",
       "    </tr>\n",
       "    <tr>\n",
       "      <th>3</th>\n",
       "      <td>hsa-mir-1302-2</td>\n",
       "    </tr>\n",
       "    <tr>\n",
       "      <th>4</th>\n",
       "      <td>hsa-miR-1302</td>\n",
       "    </tr>\n",
       "  </tbody>\n",
       "</table>\n",
       "</div>"
      ],
      "text/plain": [
       "          miR Name\n",
       "0   hsa-mir-6859-1\n",
       "1  hsa-miR-6859-5p\n",
       "2  hsa-miR-6859-3p\n",
       "3   hsa-mir-1302-2\n",
       "4     hsa-miR-1302"
      ]
     },
     "execution_count": 7,
     "metadata": {},
     "output_type": "execute_result"
    }
   ],
   "source": [
    "FILE2 = pd.DataFrame(columns=[\"miR Name\"])\n",
    "for idx,row in FILE.iterrows():\n",
    "    FILE2.loc[idx] = ((row[\"miR Name\"].split(\"=\"))[3]).split(\";\")[0]\n",
    "FILE2.head()"
   ]
  },
  {
   "cell_type": "code",
   "execution_count": 17,
   "metadata": {
    "collapsed": false,
    "scrolled": false
   },
   "outputs": [
    {
     "data": {
      "text/html": [
       "<div>\n",
       "<table border=\"1\" class=\"dataframe\">\n",
       "  <thead>\n",
       "    <tr style=\"text-align: right;\">\n",
       "      <th></th>\n",
       "      <th>Chromosome</th>\n",
       "      <th>Start</th>\n",
       "      <th>End</th>\n",
       "      <th>miR Name</th>\n",
       "    </tr>\n",
       "  </thead>\n",
       "  <tbody>\n",
       "    <tr>\n",
       "      <th>0</th>\n",
       "      <td>chr1</td>\n",
       "      <td>17369</td>\n",
       "      <td>17436</td>\n",
       "      <td>hsa-mir-6859-1</td>\n",
       "    </tr>\n",
       "    <tr>\n",
       "      <th>1</th>\n",
       "      <td>chr1</td>\n",
       "      <td>17409</td>\n",
       "      <td>17431</td>\n",
       "      <td>hsa-miR-6859-5p</td>\n",
       "    </tr>\n",
       "    <tr>\n",
       "      <th>2</th>\n",
       "      <td>chr1</td>\n",
       "      <td>17369</td>\n",
       "      <td>17391</td>\n",
       "      <td>hsa-miR-6859-3p</td>\n",
       "    </tr>\n",
       "    <tr>\n",
       "      <th>3</th>\n",
       "      <td>chr1</td>\n",
       "      <td>30366</td>\n",
       "      <td>30503</td>\n",
       "      <td>hsa-mir-1302-2</td>\n",
       "    </tr>\n",
       "    <tr>\n",
       "      <th>4</th>\n",
       "      <td>chr1</td>\n",
       "      <td>30438</td>\n",
       "      <td>30458</td>\n",
       "      <td>hsa-miR-1302</td>\n",
       "    </tr>\n",
       "  </tbody>\n",
       "</table>\n",
       "</div>"
      ],
      "text/plain": [
       "  Chromosome  Start    End         miR Name\n",
       "0       chr1  17369  17436   hsa-mir-6859-1\n",
       "1       chr1  17409  17431  hsa-miR-6859-5p\n",
       "2       chr1  17369  17391  hsa-miR-6859-3p\n",
       "3       chr1  30366  30503   hsa-mir-1302-2\n",
       "4       chr1  30438  30458     hsa-miR-1302"
      ]
     },
     "execution_count": 17,
     "metadata": {},
     "output_type": "execute_result"
    }
   ],
   "source": [
    "FFILE = pd.concat([FILE[[\"Chromosome\", \"Start\", \"End\"]],FILE2], axis=1)\n",
    "FFILE.head()"
   ]
  },
  {
   "cell_type": "code",
   "execution_count": 14,
   "metadata": {
    "collapsed": true
   },
   "outputs": [],
   "source": [
    "def pos2miR(Chromosome, start, end):\n",
    "    d = []\n",
    "    for i in range(len(FFILE)):\n",
    "        if not FFILE[\"Chromosome\"][i] == \"chr\" + str(Chromosome):\n",
    "            continue\n",
    "        for x in range(int(start),int(end) + 1):\n",
    "            if x in range(int(FFILE[\"Start\"][i]),int(FFILE[\"End\"][i])):\n",
    "                print FFILE[\"miR Name\"][i]\n",
    "                d.append(x)\n",
    "            if x in d:\n",
    "                break\n",
    "    if d == []:\n",
    "        print \"None\""
   ]
  },
  {
   "cell_type": "markdown",
   "metadata": {},
   "source": [
    "##Use cases:"
   ]
  },
  {
   "cell_type": "code",
   "execution_count": 15,
   "metadata": {
    "collapsed": false,
    "scrolled": true
   },
   "outputs": [
    {
     "name": "stdout",
     "output_type": "stream",
     "text": [
      "hsa-mir-6859-1\n",
      "hsa-miR-6859-3p\n"
     ]
    }
   ],
   "source": [
    "pos2miR(1, 17370, 17370)  # should return \"hsa-mir-6859-1\""
   ]
  },
  {
   "cell_type": "code",
   "execution_count": 5,
   "metadata": {
    "collapsed": false
   },
   "outputs": [
    {
     "name": "stdout",
     "output_type": "stream",
     "text": [
      "hsa-mir-6859-1\n",
      "hsa-miR-6859-3p\n"
     ]
    }
   ],
   "source": [
    "import pandas as pd\n",
    "from pylab import *\n",
    "\n",
    "FILE = pd.read_csv(\"hsa.gff3\", skiprows=12, delimiter = \"\\t\")  # Genome coordinates file downloaded from miRBase v20 (GRCh37)\n",
    "MFILE = FILE[\"miR Name\"]\n",
    "OFILE = FILE[[\"Chromosome\", \"Type\", \"Start\", \"End\"]]\n",
    "foo = lambda x: pd.Series([i for i in(x.split(';'))])\n",
    "s = MFILE.apply(foo)\n",
    "s = s[2]\n",
    "moo = lambda x: pd.Series([i for i in(x.split('='))])\n",
    "s = s.apply(moo)\n",
    "s = s[1]\n",
    "FFILE = pd.concat([OFILE, s], axis=1)\n",
    "FFILE.rename(columns={1:'miR Name'}, inplace=True)\n",
    "\n",
    "def pos2miR(Chromosome, start, end):\n",
    "    d = []\n",
    "    for i in range(len(FFILE)): \n",
    "        if not FFILE[\"Chromosome\"][i] == \"chr\" + str(Chromosome):\n",
    "            continue\n",
    "        c = []\n",
    "        for x in range(int(start),int(end) + 1):\n",
    "            if x in range(int(FFILE[\"Start\"][i]),int(FFILE[\"End\"][i]) + 1):\n",
    "                print FFILE[\"miR Name\"][i]\n",
    "                c.append(x)\n",
    "                d.append(x)\n",
    "            if x in c:\n",
    "                break\n",
    "        if c == []:\n",
    "            continue\n",
    "    if d == []:\n",
    "        print \"None\"\n",
    "        \n",
    "pos2miR(1, 17370, 17370)  # should return \"hsa-mir-6859-1\""
   ]
  },
  {
   "cell_type": "code",
   "execution_count": 16,
   "metadata": {
    "collapsed": false
   },
   "outputs": [
    {
     "name": "stdout",
     "output_type": "stream",
     "text": [
      "hsa-mir-6859-1\n",
      "hsa-miR-6859-3p\n"
     ]
    }
   ],
   "source": [
    "def pos2miR(Chromosome, start, end):\n",
    "    d = []\n",
    "    for i in range(len(FFILE)): \n",
    "        if not FFILE[\"Chromosome\"][i] == \"chr\" + str(Chromosome):\n",
    "            continue\n",
    "        c = []\n",
    "        for x in range(int(start),int(end) + 1):\n",
    "            if x in range(int(FFILE[\"Start\"][i]),int(FFILE[\"End\"][i]) + 1):\n",
    "                print FFILE[\"miR Name\"][i]\n",
    "                c.append(x)\n",
    "                d.append(x)\n",
    "            if x in c:\n",
    "                break\n",
    "        if c == []:\n",
    "            continue\n",
    "    if d == []:\n",
    "        print \"None\"\n",
    "        \n",
    "pos2miR(1, 17370, 17370)  # should return \"hsa-mir-6859-1\""
   ]
  }
 ],
 "metadata": {
  "kernelspec": {
   "display_name": "Python 2",
   "language": "python",
   "name": "python2"
  },
  "language_info": {
   "codemirror_mode": {
    "name": "ipython",
    "version": 2
   },
   "file_extension": ".py",
   "mimetype": "text/x-python",
   "name": "python",
   "nbconvert_exporter": "python",
   "pygments_lexer": "ipython2",
   "version": "2.7.10"
  }
 },
 "nbformat": 4,
 "nbformat_minor": 0
}
