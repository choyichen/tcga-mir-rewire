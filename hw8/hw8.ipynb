{
 "cells": [
  {
   "cell_type": "markdown",
   "metadata": {},
   "source": [
    "#MicroRNA genes, miRNA binding sites, and PolyA signals"
   ]
  },
  {
   "cell_type": "markdown",
   "metadata": {},
   "source": [
    "Same as yesterday, search for mutation hits on miRNA genes, miRNA binding sites, and polyA signals.\n",
    "\n",
    "Hint: pandas's read_table function supports reading from gzip file."
   ]
  },
  {
   "cell_type": "code",
   "execution_count": 2,
   "metadata": {
    "collapsed": true
   },
   "outputs": [],
   "source": [
    "MAF = \"../hw7/hgsc.bcm.edu__Mixed_curated_DNA_sequencing_level2.maf\"\n",
    "TABLE1 = \"wgRna.gz\"  # miRNA genes\n",
    "TABLE2 = \"targetScanS.gz\"  # miRNA binding sites\n",
    "TABLE3 = \"wgEncodeGencodePolyaV19.gz\"  # polyA sites"
   ]
  }
 ],
 "metadata": {
  "kernelspec": {
   "display_name": "Python 2",
   "language": "python",
   "name": "python2"
  },
  "language_info": {
   "codemirror_mode": {
    "name": "ipython",
    "version": 2
   },
   "file_extension": ".py",
   "mimetype": "text/x-python",
   "name": "python",
   "nbconvert_exporter": "python",
   "pygments_lexer": "ipython2",
   "version": "2.7.10"
  }
 },
 "nbformat": 4,
 "nbformat_minor": 0
}
