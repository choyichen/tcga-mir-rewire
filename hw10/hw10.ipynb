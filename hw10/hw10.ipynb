{
 "cells": [
  {
   "cell_type": "markdown",
   "metadata": {},
   "source": [
    "See `hw9/cancer_type_sums.annotated.xlsx`, keep only those selected cancer types, generate the following tables (tab-separated files):\n",
    "\n",
    "* `gene_all_counts.txt`\n",
    "* `gene_all_counts.normalized.txt` (count/total count)\n",
    "* `gene_disrupted_counts.txt`\n",
    "* `gene_disrupted_counts.normalized.txt` (count/total count)\n",
    "* `gene_created_counts.txt`\n",
    "* `gene_created_counts.normalized.txt` (count/total count)\n",
    "\n",
    "\n",
    "* `miR_all_counts.txt`\n",
    "* `miR_all_counts.normalized.txt` (count/total count)\n",
    "* `miR_disrupted_counts.txt`\n",
    "* `miR_disrupted_counts.normalized.txt` (count/total count)\n",
    "* `miR_created_counts.txt`\n",
    "* `miR_created_counts.normalized.txt` (count/total count)\n",
    "\n",
    "Prune the table: Remove those genes/miRs with zero count in all cancer types.\n",
    "\n",
    "Sort the gene/miR order by the total count (or total normalized count) across all cancers.\n",
    "\n",
    "Run hierarchical clustering and draw heatmaps. (Python: matplotlib, seaborn; R: heatmap.2; MeV software suite)"
   ]
  }
 ],
 "metadata": {
  "kernelspec": {
   "display_name": "Python 2",
   "language": "python",
   "name": "python2"
  },
  "language_info": {
   "codemirror_mode": {
    "name": "ipython",
    "version": 2
   },
   "file_extension": ".py",
   "mimetype": "text/x-python",
   "name": "python",
   "nbconvert_exporter": "python",
   "pygments_lexer": "ipython2",
   "version": "2.7.10"
  }
 },
 "nbformat": 4,
 "nbformat_minor": 0
}
