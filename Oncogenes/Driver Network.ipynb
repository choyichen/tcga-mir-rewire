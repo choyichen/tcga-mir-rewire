{
 "cells": [
  {
   "cell_type": "code",
   "execution_count": 1,
   "metadata": {
    "collapsed": true
   },
   "outputs": [],
   "source": [
    "import networkx as nx\n",
    "import pandas as pd\n",
    "from pylab import *\n",
    "%matplotlib inline\n",
    "import numpy as np"
   ]
  },
  {
   "cell_type": "code",
   "execution_count": 5,
   "metadata": {
    "collapsed": false
   },
   "outputs": [
    {
     "data": {
      "text/html": [
       "<div>\n",
       "<table border=\"1\" class=\"dataframe\">\n",
       "  <thead>\n",
       "    <tr style=\"text-align: right;\">\n",
       "      <th></th>\n",
       "      <th>Unnamed: 0</th>\n",
       "      <th>Driver Oncogenes with Disrupted Binding Site</th>\n",
       "      <th>Driver Tumor Suppressor Gene with Created Binding Site</th>\n",
       "      <th>Unclassified Driver Gene with Mutated Binding Site</th>\n",
       "      <th>Total # Mutated Driver Gene Binding Sites</th>\n",
       "    </tr>\n",
       "  </thead>\n",
       "  <tbody>\n",
       "    <tr>\n",
       "      <th>0</th>\n",
       "      <td>hsa-miR-4530</td>\n",
       "      <td>AHR</td>\n",
       "      <td>APAF1,ACSL6,NF2,EEF1A1</td>\n",
       "      <td>STK4</td>\n",
       "      <td>6</td>\n",
       "    </tr>\n",
       "    <tr>\n",
       "      <th>1</th>\n",
       "      <td>hsa-miR-302a-5p</td>\n",
       "      <td>G3BP2,NTRK2,MCM8</td>\n",
       "      <td>FAS</td>\n",
       "      <td>NaN</td>\n",
       "      <td>4</td>\n",
       "    </tr>\n",
       "    <tr>\n",
       "      <th>2</th>\n",
       "      <td>hsa-miR-3148</td>\n",
       "      <td>NaN</td>\n",
       "      <td>TP53,TOM1,MLL3,MSR1</td>\n",
       "      <td>NaN</td>\n",
       "      <td>4</td>\n",
       "    </tr>\n",
       "    <tr>\n",
       "      <th>3</th>\n",
       "      <td>hsa-miR-4438</td>\n",
       "      <td>PIK3R3</td>\n",
       "      <td>CDC27,RAD23B,ARHGAP26</td>\n",
       "      <td>NaN</td>\n",
       "      <td>4</td>\n",
       "    </tr>\n",
       "    <tr>\n",
       "      <th>4</th>\n",
       "      <td>hsa-miR-5095</td>\n",
       "      <td>NaN</td>\n",
       "      <td>ARHGAP26,CDC27,RAD23B,TFDP2</td>\n",
       "      <td>NaN</td>\n",
       "      <td>4</td>\n",
       "    </tr>\n",
       "  </tbody>\n",
       "</table>\n",
       "</div>"
      ],
      "text/plain": [
       "        Unnamed: 0 Driver Oncogenes with Disrupted Binding Site  \\\n",
       "0     hsa-miR-4530                                          AHR   \n",
       "1  hsa-miR-302a-5p                             G3BP2,NTRK2,MCM8   \n",
       "2     hsa-miR-3148                                          NaN   \n",
       "3     hsa-miR-4438                                       PIK3R3   \n",
       "4     hsa-miR-5095                                          NaN   \n",
       "\n",
       "  Driver Tumor Suppressor Gene with Created Binding Site  \\\n",
       "0                             APAF1,ACSL6,NF2,EEF1A1       \n",
       "1                                                FAS       \n",
       "2                                TP53,TOM1,MLL3,MSR1       \n",
       "3                              CDC27,RAD23B,ARHGAP26       \n",
       "4                        ARHGAP26,CDC27,RAD23B,TFDP2       \n",
       "\n",
       "  Unclassified Driver Gene with Mutated Binding Site  \\\n",
       "0                                               STK4   \n",
       "1                                                NaN   \n",
       "2                                                NaN   \n",
       "3                                                NaN   \n",
       "4                                                NaN   \n",
       "\n",
       "   Total # Mutated Driver Gene Binding Sites  \n",
       "0                                          6  \n",
       "1                                          4  \n",
       "2                                          4  \n",
       "3                                          4  \n",
       "4                                          4  "
      ]
     },
     "execution_count": 5,
     "metadata": {},
     "output_type": "execute_result"
    }
   ],
   "source": [
    "df = pd.read_table(\"C:/Users/jtso/My Documents/Cancer miRNA rewiring project/driver_gene_counts.txt\", sep=\"\\t\")\n",
    "df.head()"
   ]
  },
  {
   "cell_type": "code",
   "execution_count": 8,
   "metadata": {
    "collapsed": true
   },
   "outputs": [],
   "source": [
    "df = df.rename(columns={\"Unnamed: 0\":\"miRNA\"})"
   ]
  },
  {
   "cell_type": "code",
   "execution_count": 9,
   "metadata": {
    "collapsed": false
   },
   "outputs": [
    {
     "data": {
      "text/html": [
       "<div>\n",
       "<table border=\"1\" class=\"dataframe\">\n",
       "  <thead>\n",
       "    <tr style=\"text-align: right;\">\n",
       "      <th></th>\n",
       "      <th>miRNA</th>\n",
       "      <th>Driver Oncogenes with Disrupted Binding Site</th>\n",
       "      <th>Driver Tumor Suppressor Gene with Created Binding Site</th>\n",
       "      <th>Unclassified Driver Gene with Mutated Binding Site</th>\n",
       "      <th>Total # Mutated Driver Gene Binding Sites</th>\n",
       "    </tr>\n",
       "  </thead>\n",
       "  <tbody>\n",
       "    <tr>\n",
       "      <th>0</th>\n",
       "      <td>hsa-miR-4530</td>\n",
       "      <td>AHR</td>\n",
       "      <td>APAF1,ACSL6,NF2,EEF1A1</td>\n",
       "      <td>STK4</td>\n",
       "      <td>6</td>\n",
       "    </tr>\n",
       "    <tr>\n",
       "      <th>1</th>\n",
       "      <td>hsa-miR-302a-5p</td>\n",
       "      <td>G3BP2,NTRK2,MCM8</td>\n",
       "      <td>FAS</td>\n",
       "      <td>NaN</td>\n",
       "      <td>4</td>\n",
       "    </tr>\n",
       "    <tr>\n",
       "      <th>2</th>\n",
       "      <td>hsa-miR-3148</td>\n",
       "      <td>NaN</td>\n",
       "      <td>TP53,TOM1,MLL3,MSR1</td>\n",
       "      <td>NaN</td>\n",
       "      <td>4</td>\n",
       "    </tr>\n",
       "    <tr>\n",
       "      <th>3</th>\n",
       "      <td>hsa-miR-4438</td>\n",
       "      <td>PIK3R3</td>\n",
       "      <td>CDC27,RAD23B,ARHGAP26</td>\n",
       "      <td>NaN</td>\n",
       "      <td>4</td>\n",
       "    </tr>\n",
       "    <tr>\n",
       "      <th>4</th>\n",
       "      <td>hsa-miR-5095</td>\n",
       "      <td>NaN</td>\n",
       "      <td>ARHGAP26,CDC27,RAD23B,TFDP2</td>\n",
       "      <td>NaN</td>\n",
       "      <td>4</td>\n",
       "    </tr>\n",
       "  </tbody>\n",
       "</table>\n",
       "</div>"
      ],
      "text/plain": [
       "             miRNA Driver Oncogenes with Disrupted Binding Site  \\\n",
       "0     hsa-miR-4530                                          AHR   \n",
       "1  hsa-miR-302a-5p                             G3BP2,NTRK2,MCM8   \n",
       "2     hsa-miR-3148                                          NaN   \n",
       "3     hsa-miR-4438                                       PIK3R3   \n",
       "4     hsa-miR-5095                                          NaN   \n",
       "\n",
       "  Driver Tumor Suppressor Gene with Created Binding Site  \\\n",
       "0                             APAF1,ACSL6,NF2,EEF1A1       \n",
       "1                                                FAS       \n",
       "2                                TP53,TOM1,MLL3,MSR1       \n",
       "3                              CDC27,RAD23B,ARHGAP26       \n",
       "4                        ARHGAP26,CDC27,RAD23B,TFDP2       \n",
       "\n",
       "  Unclassified Driver Gene with Mutated Binding Site  \\\n",
       "0                                               STK4   \n",
       "1                                                NaN   \n",
       "2                                                NaN   \n",
       "3                                                NaN   \n",
       "4                                                NaN   \n",
       "\n",
       "   Total # Mutated Driver Gene Binding Sites  \n",
       "0                                          6  \n",
       "1                                          4  \n",
       "2                                          4  \n",
       "3                                          4  \n",
       "4                                          4  "
      ]
     },
     "execution_count": 9,
     "metadata": {},
     "output_type": "execute_result"
    }
   ],
   "source": [
    "df.head()"
   ]
  },
  {
   "cell_type": "code",
   "execution_count": null,
   "metadata": {
    "collapsed": true
   },
   "outputs": [],
   "source": [
    "m = {}\n",
    "count = -1\n",
    "for idx,row in df.iterrows():\n",
    "    "
   ]
  }
 ],
 "metadata": {
  "kernelspec": {
   "display_name": "Python 2",
   "language": "python",
   "name": "python2"
  },
  "language_info": {
   "codemirror_mode": {
    "name": "ipython",
    "version": 2
   },
   "file_extension": ".py",
   "mimetype": "text/x-python",
   "name": "python",
   "nbconvert_exporter": "python",
   "pygments_lexer": "ipython2",
   "version": "2.7.10"
  }
 },
 "nbformat": 4,
 "nbformat_minor": 0
}
